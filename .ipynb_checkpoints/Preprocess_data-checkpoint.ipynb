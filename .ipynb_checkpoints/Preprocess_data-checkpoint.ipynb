{
 "cells": [
  {
   "cell_type": "code",
   "execution_count": 4,
   "metadata": {
    "ExecuteTime": {
     "end_time": "2022-11-08T08:11:27.073846Z",
     "start_time": "2022-11-08T08:11:26.028739Z"
    }
   },
   "outputs": [],
   "source": [
    "import pandas as pd\n",
    "import matplotlib.pyplot as plt\n",
    "import seaborn as sns\n",
    "import warnings\n",
    "warnings.simplefilter(\"ignore\")\n",
    "%matplotlib inline\n",
    "\n",
    "sns.set(style=\"darkgrid\")\n",
    "    \n",
    "from preprocess import Preprocessing\n",
    "from sklearn.model_selection import train_test_split\n",
    "df = pd.read_excel(\"Data.xlsx\")"
   ]
  },
  {
   "cell_type": "code",
   "execution_count": 2,
   "metadata": {
    "ExecuteTime": {
     "end_time": "2022-11-06T07:22:58.273902Z",
     "start_time": "2022-11-06T07:22:58.260950Z"
    }
   },
   "outputs": [
    {
     "name": "stdout",
     "output_type": "stream",
     "text": [
      "<class 'pandas.core.frame.DataFrame'>\n",
      "RangeIndex: 11906 entries, 0 to 11905\n",
      "Data columns (total 8 columns):\n",
      " #   Column      Non-Null Count  Dtype  \n",
      "---  ------      --------------  -----  \n",
      " 0   urls        11906 non-null  object \n",
      " 1   rooms       11906 non-null  int64  \n",
      " 2   sq_m        11906 non-null  float64\n",
      " 3   floor       11709 non-null  float64\n",
      " 4   floors_all  11640 non-null  float64\n",
      " 5   area        11906 non-null  object \n",
      " 6   year        11906 non-null  object \n",
      " 7   price       11906 non-null  int64  \n",
      "dtypes: float64(3), int64(2), object(3)\n",
      "memory usage: 744.2+ KB\n"
     ]
    }
   ],
   "source": [
    "df.info()"
   ]
  },
  {
   "cell_type": "markdown",
   "metadata": {},
   "source": [
    "#### Almaty house prices\n",
    "\n",
    "Almaty(Kazakhstan) house prices Dataset is a derived from the popular website [krisha.kz](https://krisha.kz/). The following describes the dataset columns:\n",
    "\n",
    "**url** - url of the flat</br>  </br>  \n",
    "**rooms** - number of rooms in the flat </br>  \n",
    "**sq_m**  - area of the flat in square meter </br>         \n",
    "**floor** - shows in what floor is the flat  </br>     \n",
    "**floors_all** - overall floors in the house </br> \n",
    "**area** - in what district is house  </br>     \n",
    "**year** - year built </br>         \n",
    "**price** - price of the flat </br>      "
   ]
  },
  {
   "cell_type": "code",
   "execution_count": 3,
   "metadata": {
    "ExecuteTime": {
     "end_time": "2022-11-08T08:11:17.898947Z",
     "start_time": "2022-11-08T08:11:17.876371Z"
    }
   },
   "outputs": [
    {
     "data": {
      "text/html": [
       "<div>\n",
       "<style scoped>\n",
       "    .dataframe tbody tr th:only-of-type {\n",
       "        vertical-align: middle;\n",
       "    }\n",
       "\n",
       "    .dataframe tbody tr th {\n",
       "        vertical-align: top;\n",
       "    }\n",
       "\n",
       "    .dataframe thead th {\n",
       "        text-align: right;\n",
       "    }\n",
       "</style>\n",
       "<table border=\"1\" class=\"dataframe\">\n",
       "  <thead>\n",
       "    <tr style=\"text-align: right;\">\n",
       "      <th></th>\n",
       "      <th>urls</th>\n",
       "      <th>rooms</th>\n",
       "      <th>sq_m</th>\n",
       "      <th>floor</th>\n",
       "      <th>floors_all</th>\n",
       "      <th>area</th>\n",
       "      <th>year</th>\n",
       "      <th>price</th>\n",
       "    </tr>\n",
       "  </thead>\n",
       "  <tbody>\n",
       "    <tr>\n",
       "      <th>0</th>\n",
       "      <td>https://krisha.kz/a/show/677953576</td>\n",
       "      <td>2</td>\n",
       "      <td>76.0</td>\n",
       "      <td>8.0</td>\n",
       "      <td>19.0</td>\n",
       "      <td>Алмалинский</td>\n",
       "      <td>2012</td>\n",
       "      <td>44500000</td>\n",
       "    </tr>\n",
       "    <tr>\n",
       "      <th>1</th>\n",
       "      <td>https://krisha.kz/a/show/666789557</td>\n",
       "      <td>2</td>\n",
       "      <td>40.0</td>\n",
       "      <td>2.0</td>\n",
       "      <td>2.0</td>\n",
       "      <td>Ташкентская28</td>\n",
       "      <td>1959</td>\n",
       "      <td>27500000</td>\n",
       "    </tr>\n",
       "  </tbody>\n",
       "</table>\n",
       "</div>"
      ],
      "text/plain": [
       "                                 urls  rooms  sq_m  floor  floors_all  \\\n",
       "0  https://krisha.kz/a/show/677953576      2  76.0    8.0        19.0   \n",
       "1  https://krisha.kz/a/show/666789557      2  40.0    2.0         2.0   \n",
       "\n",
       "            area  year     price  \n",
       "0    Алмалинский  2012  44500000  \n",
       "1  Ташкентская28  1959  27500000  "
      ]
     },
     "execution_count": 3,
     "metadata": {},
     "output_type": "execute_result"
    }
   ],
   "source": [
    "df.head(2)"
   ]
  },
  {
   "cell_type": "code",
   "execution_count": 5,
   "metadata": {
    "ExecuteTime": {
     "end_time": "2022-11-08T08:11:32.562818Z",
     "start_time": "2022-11-08T08:11:31.522381Z"
    }
   },
   "outputs": [],
   "source": [
    "df = pd.read_excel(\"Data.xlsx\")\n",
    "\n",
    "df = df.drop(columns=[\"urls\"])\n",
    "\n",
    "y = df[\"price\"]\n",
    "X = df.drop(columns=[\"price\"])\n",
    "\n",
    "X_train, X_test, y_train, y_test = train_test_split(X, y, test_size=0.1, random_state=42)\n",
    "\n"
   ]
  },
  {
   "cell_type": "markdown",
   "metadata": {},
   "source": [
    "# Preprocessing\n",
    "\n",
    "I see 3 main problems in the dataset <br>\n",
    "1) There are 267 unique elements in the column **area**, although Almaty has only 8 districts <br>\n",
    "2) The column **year** is of type string and some of the rows have empty string <br>\n",
    "3) **floor** and **floors_all** has emptry entries"
   ]
  },
  {
   "cell_type": "markdown",
   "metadata": {},
   "source": [
    "## Problem 1 \n",
    "\n",
    "There are 267 unique elements in the column \"area\", although Almaty has only 8 district('Auezovskiy', 'Bostandikskiy', 'Almalinskiy', 'Alatauskiy', 'Medeuskiy', 'Nauryzbaiskiy', 'Turkisibskiy', 'Zhetysuskiy'). So some rows have name of the streets not districts, I will create new class \"district9\", for all elements, which have street name on area column"
   ]
  },
  {
   "cell_type": "code",
   "execution_count": 6,
   "metadata": {
    "ExecuteTime": {
     "end_time": "2022-11-08T08:21:56.586383Z",
     "start_time": "2022-11-08T08:21:56.580052Z"
    }
   },
   "outputs": [
    {
     "data": {
      "text/plain": [
       "267"
      ]
     },
     "execution_count": 6,
     "metadata": {},
     "output_type": "execute_result"
    }
   ],
   "source": [
    "len(X_train.area.unique())"
   ]
  },
  {
   "cell_type": "code",
   "execution_count": 7,
   "metadata": {
    "ExecuteTime": {
     "end_time": "2022-11-08T08:21:57.916420Z",
     "start_time": "2022-11-08T08:21:57.903870Z"
    }
   },
   "outputs": [],
   "source": [
    "almaty_areas = ['Ауэзовский', 'Бостандыкский', 'Алмалинский', 'Алатауский', 'Медеуский', 'Наурызбайский', 'Турксибский', 'Жетысуский']\n",
    "X_train['area'] = X_train['area'].apply(lambda x: x if x in almaty_areas else 'district9')"
   ]
  },
  {
   "cell_type": "code",
   "execution_count": 8,
   "metadata": {
    "ExecuteTime": {
     "end_time": "2022-11-08T08:21:58.677242Z",
     "start_time": "2022-11-08T08:21:58.652289Z"
    }
   },
   "outputs": [
    {
     "data": {
      "text/plain": [
       "Ауэзовский       2187\n",
       "Бостандыкский    1924\n",
       "Алмалинский      1405\n",
       "Алатауский       1112\n",
       "Медеуский         999\n",
       "Наурызбайский     981\n",
       "Турксибский       966\n",
       "Жетысуский        858\n",
       "district9         283\n",
       "Name: area, dtype: int64"
      ]
     },
     "execution_count": 8,
     "metadata": {},
     "output_type": "execute_result"
    }
   ],
   "source": [
    "X_train['area'].value_counts()"
   ]
  },
  {
   "cell_type": "markdown",
   "metadata": {},
   "source": [
    "## Problem 2\n",
    "\n",
    "Some entries in column \"year\" has empty strings, so it cannot be converted to int"
   ]
  },
  {
   "cell_type": "code",
   "execution_count": 10,
   "metadata": {
    "ExecuteTime": {
     "end_time": "2022-11-08T08:23:06.557252Z",
     "start_time": "2022-11-08T08:23:06.551341Z"
    }
   },
   "outputs": [
    {
     "name": "stdout",
     "output_type": "stream",
     "text": [
      "Uppd, I have some probelms with conversion\n"
     ]
    }
   ],
   "source": [
    "try: \n",
    "    X_train['year'] = X_train['year'].astype(int)\n",
    "except ValueError as v:\n",
    "    print(f'Uppd, I have some probelms with conversion')\n"
   ]
  },
  {
   "cell_type": "code",
   "execution_count": 11,
   "metadata": {
    "ExecuteTime": {
     "end_time": "2022-11-08T08:23:08.404612Z",
     "start_time": "2022-11-08T08:23:07.411148Z"
    }
   },
   "outputs": [
    {
     "name": "stdout",
     "output_type": "stream",
     "text": [
      "7872-th element exception, string =     \n",
      "9883-th element exception, string =     \n",
      "3989-th element exception, string =     \n",
      "1190-th element exception, string =     \n",
      "3942-th element exception, string =     \n",
      "2510-th element exception, string =     \n",
      "6814-th element exception, string =     \n",
      "4921-th element exception, string =     \n",
      "6829-th element exception, string =     \n",
      "10614-th element exception, string =     \n",
      "9178-th element exception, string =     \n",
      "5554-th element exception, string =     \n",
      "7795-th element exception, string =     \n",
      "11409-th element exception, string =     \n",
      "8373-th element exception, string =     \n",
      "4168-th element exception, string =     \n",
      "8277-th element exception, string =     \n",
      "11897-th element exception, string =     \n",
      "2428-th element exception, string =     \n",
      "5588-th element exception, string =     \n",
      "number of empty strings = 20, это 0.187 % data\n"
     ]
    }
   ],
   "source": [
    "empty_str_ind = []\n",
    "for i in X_train.index.values:\n",
    "    try: \n",
    "        X_train['year'][i] = int(X_train['year'][i])\n",
    "    except:\n",
    "        print(f'{i}-th element exception, string = {X_train.year[i]}')\n",
    "        empty_str_ind.append(i)\n",
    "\n",
    "cnt = len(empty_str_ind) \n",
    "print(f'number of empty strings = {cnt}, это {100 * cnt/X_train.shape[0]:.3f} % data')"
   ]
  },
  {
   "cell_type": "markdown",
   "metadata": {
    "ExecuteTime": {
     "end_time": "2022-10-05T15:43:31.367575Z",
     "start_time": "2022-10-05T15:43:31.334603Z"
    }
   },
   "source": [
    "So there are only 20 such entries, so we can just remove them in the traing set, while in the test set we can replace them with median year in the given district."
   ]
  },
  {
   "cell_type": "code",
   "execution_count": 12,
   "metadata": {
    "ExecuteTime": {
     "end_time": "2022-11-08T08:23:11.332217Z",
     "start_time": "2022-11-08T08:23:11.313501Z"
    }
   },
   "outputs": [
    {
     "data": {
      "text/plain": [
       "{'district9': 2014,\n",
       " 'Алатауский': 2015,\n",
       " 'Алмалинский': 1983,\n",
       " 'Ауэзовский': 1986,\n",
       " 'Бостандыкский': 1989,\n",
       " 'Жетысуский': 1990,\n",
       " 'Медеуский': 2007,\n",
       " 'Наурызбайский': 2019,\n",
       " 'Турксибский': 1991}"
      ]
     },
     "execution_count": 12,
     "metadata": {},
     "output_type": "execute_result"
    }
   ],
   "source": [
    "X_train.drop(empty_str_ind, inplace = True)\n",
    "y_train.drop(empty_str_ind, inplace = True)\n",
    "X_train['year'] = X_train['year'].astype(int)\n",
    "\n",
    "X_train.reset_index(drop=True, inplace=True)\n",
    "y_train.reset_index(drop=True, inplace=True)\n",
    "#X_val.reset_index(drop=True, inplace=True)\n",
    "#X_test.reset_index(drop=True, inplace=True)\n",
    "\n",
    "X_train.groupby(['area'])['year'].median().to_dict()"
   ]
  },
  {
   "cell_type": "markdown",
   "metadata": {
    "ExecuteTime": {
     "end_time": "2022-10-05T18:27:13.960035Z",
     "start_time": "2022-10-05T18:27:13.947055Z"
    }
   },
   "source": [
    "## Пропуски в floors_all и в floor \n",
    "\n",
    "Overall we have 235 skipped elements in floors_all and floor"
   ]
  },
  {
   "cell_type": "code",
   "execution_count": 16,
   "metadata": {
    "ExecuteTime": {
     "end_time": "2022-11-08T08:25:38.380248Z",
     "start_time": "2022-11-08T08:25:38.374003Z"
    }
   },
   "outputs": [
    {
     "data": {
      "text/plain": [
       "rooms           0\n",
       "sq_m            0\n",
       "floor         172\n",
       "floors_all    235\n",
       "area            0\n",
       "year            0\n",
       "dtype: int64"
      ]
     },
     "execution_count": 16,
     "metadata": {},
     "output_type": "execute_result"
    }
   ],
   "source": [
    "X_train.isna().sum()"
   ]
  },
  {
   "cell_type": "code",
   "execution_count": 17,
   "metadata": {
    "ExecuteTime": {
     "end_time": "2022-11-08T08:25:39.010207Z",
     "start_time": "2022-11-08T08:25:38.991154Z"
    }
   },
   "outputs": [
    {
     "data": {
      "text/plain": [
       "(235, 6)"
      ]
     },
     "execution_count": 17,
     "metadata": {},
     "output_type": "execute_result"
    }
   ],
   "source": [
    "null_data = X_train[X_train.isnull().any(axis=1)]\n",
    "null_data.shape"
   ]
  },
  {
   "cell_type": "markdown",
   "metadata": {},
   "source": [
    "As we can see that there are some relationship between year and floors_all. During USSR mostly 1-5 floored houses had been built, while now we see more multi-storey buildings. We can replace empty floors with floors_all // 2, I think there is no much price difference in the floors [2 - pre last floor]   "
   ]
  },
  {
   "cell_type": "code",
   "execution_count": 18,
   "metadata": {
    "ExecuteTime": {
     "end_time": "2022-11-08T08:25:42.792881Z",
     "start_time": "2022-11-08T08:25:40.393311Z"
    }
   },
   "outputs": [
    {
     "data": {
      "text/plain": [
       "[Text(0.5, 1.0, 'floors_all vs year')]"
      ]
     },
     "execution_count": 18,
     "metadata": {},
     "output_type": "execute_result"
    },
    {
     "data": {
      "image/png": "[encoded data removed]",
      "text/plain": [
       "<Figure size 864x576 with 1 Axes>"
      ]
     },
     "metadata": {},
     "output_type": "display_data"
    }
   ],
   "source": [
    "sns.set(rc={'figure.figsize':(12,8)})\n",
    "\n",
    "\n",
    "year_div = []\n",
    "for i in range(0, X_train.shape[0]):\n",
    "    if X_train.iloc[i]['year'] <= 1990: \n",
    "        year_div.append('[ - 1990]')\n",
    "    elif X_train.iloc[i]['year'] > 1990 and X_train.iloc[i]['year'] <= 2010:    \n",
    "        year_div.append('(1990 - 2010]')\n",
    "    else:    \n",
    "        year_div.append('[2010 - )')\n",
    "\n",
    "X_train['year_div'] = year_div\n",
    "sns.boxplot(data=X_train, x='floors_all', y='year_div').set(title='floors_all vs year')"
   ]
  },
  {
   "cell_type": "markdown",
   "metadata": {},
   "source": [
    "So we replace empty elements in floors_all and floor as following: <br>\n",
    "\n",
    "1. if floor and floors_all both Nan: floors_all - median floors_all by year built, floor = floors_all // 2<br>\n",
    "2. if only floors_all is Nan: floors_all = floors * 2 <br>\n",
    "3. if only floor is Nan: floors = floors_all // 2<br>\n"
   ]
  },
  {
   "cell_type": "code",
   "execution_count": 19,
   "metadata": {
    "ExecuteTime": {
     "end_time": "2022-11-08T08:25:42.828244Z",
     "start_time": "2022-11-08T08:25:42.823851Z"
    }
   },
   "outputs": [],
   "source": [
    "year_median_floor = X_train.groupby('year_div')['floors_all'].median().to_dict()\n",
    "X_train.drop(columns=['year_div'], inplace=True)"
   ]
  },
  {
   "cell_type": "code",
   "execution_count": 22,
   "metadata": {
    "ExecuteTime": {
     "end_time": "2022-11-08T08:26:08.356922Z",
     "start_time": "2022-11-08T08:26:08.345934Z"
    }
   },
   "outputs": [
    {
     "data": {
      "text/plain": [
       "{'(1990 - 2010]': 9.0, '[ - 1990]': 5.0, '[2010 - )': 10.0}"
      ]
     },
     "execution_count": 22,
     "metadata": {},
     "output_type": "execute_result"
    }
   ],
   "source": [
    "year_median_floor"
   ]
  },
  {
   "cell_type": "code",
   "execution_count": 23,
   "metadata": {
    "ExecuteTime": {
     "end_time": "2022-11-08T08:26:14.160681Z",
     "start_time": "2022-11-08T08:26:11.182739Z"
    }
   },
   "outputs": [],
   "source": [
    "import math\n",
    "def find_floor_all(row):\n",
    "    if row['year'] <= 1990: \n",
    "        floors_all = year_median_floor['[ - 1990]']\n",
    "    elif 1990 < row['year'] <= 2010:    \n",
    "        floors_all = year_median_floor['(1990 - 2010]']\n",
    "    else:    \n",
    "        floors_all = year_median_floor['[2010 - )']\n",
    "    return floors_all\n",
    "\n",
    "indices = []\n",
    "for i in range(0, X_train.shape[0]):\n",
    "    if math.isnan(X_train.iloc[i]['floors_all']) and math.isnan(X_train.iloc[i]['floor']):\n",
    "        indices.append(i)\n",
    "        X_train['floors_all'].iloc[i] = find_floor_all(X_train.iloc[i])\n",
    "        X_train['floor'].iloc[i] = X_train['floors_all'].iloc[i] // 2 \n",
    "    elif math.isnan(X_train.iloc[i]['floors_all']) and not math.isnan(X_train.iloc[i]['floor']):\n",
    "        indices.append(i)\n",
    "        X_train['floors_all'].iloc[i] = 2 * X_train['floor'].iloc[i]\n",
    "    elif math.isnan(X_train.iloc[i]['floor']) and not math.isnan(X_train.iloc[i]['floors_all']):\n",
    "        indices.append(i)\n",
    "        if X_train['floors_all'].iloc[i] == 1:\n",
    "            X_train['floors'].iloc[i] = 1\n",
    "        else:\n",
    "            X_train['floor'].iloc[i] = X_train['floors_all'].iloc[i] // 2\n",
    "\n"
   ]
  },
  {
   "cell_type": "code",
   "execution_count": 24,
   "metadata": {
    "ExecuteTime": {
     "end_time": "2022-11-08T08:26:27.481142Z",
     "start_time": "2022-11-08T08:26:27.475695Z"
    }
   },
   "outputs": [
    {
     "data": {
      "text/plain": [
       "rooms         0\n",
       "sq_m          0\n",
       "floor         0\n",
       "floors_all    0\n",
       "area          0\n",
       "year          0\n",
       "dtype: int64"
      ]
     },
     "execution_count": 24,
     "metadata": {},
     "output_type": "execute_result"
    }
   ],
   "source": [
    "X_train.isna().sum()"
   ]
  },
  {
   "cell_type": "markdown",
   "metadata": {},
   "source": [
    "# One hot Encoder\n",
    "\n",
    "We have categorical variable **area**, we will use one_hot_encoder to encode it."
   ]
  },
  {
   "cell_type": "code",
   "execution_count": 25,
   "metadata": {
    "ExecuteTime": {
     "end_time": "2022-11-08T08:28:11.443364Z",
     "start_time": "2022-11-08T08:28:11.439623Z"
    }
   },
   "outputs": [],
   "source": [
    "from sklearn.preprocessing import OneHotEncoder"
   ]
  },
  {
   "cell_type": "code",
   "execution_count": 26,
   "metadata": {
    "ExecuteTime": {
     "end_time": "2022-11-08T08:28:12.111606Z",
     "start_time": "2022-11-08T08:28:12.104354Z"
    }
   },
   "outputs": [],
   "source": [
    "one_hot = OneHotEncoder(drop='first')"
   ]
  },
  {
   "cell_type": "code",
   "execution_count": 27,
   "metadata": {
    "ExecuteTime": {
     "end_time": "2022-11-08T08:28:12.785751Z",
     "start_time": "2022-11-08T08:28:12.772010Z"
    }
   },
   "outputs": [
    {
     "data": {
      "text/plain": [
       "OneHotEncoder(drop='first')"
      ]
     },
     "execution_count": 27,
     "metadata": {},
     "output_type": "execute_result"
    }
   ],
   "source": [
    "one_hot.fit(X_train['area'][:,None])#.toarray()#.shape#.values()"
   ]
  },
  {
   "cell_type": "code",
   "execution_count": 28,
   "metadata": {
    "ExecuteTime": {
     "end_time": "2022-11-08T08:28:13.690330Z",
     "start_time": "2022-11-08T08:28:13.660616Z"
    }
   },
   "outputs": [],
   "source": [
    "arr = one_hot.transform(X_train['area'][:,None]).toarray()\n",
    "df_one = pd.DataFrame(arr, columns = ['area1','area2','area3', 'area4','area5','area6', 'area7', 'area8'])\n",
    "X_train.drop(columns=['area'], inplace=True)\n",
    "X_train = pd.concat([X_train, df_one], axis=1)"
   ]
  },
  {
   "cell_type": "code",
   "execution_count": 29,
   "metadata": {
    "ExecuteTime": {
     "end_time": "2022-11-08T08:28:14.328021Z",
     "start_time": "2022-11-08T08:28:14.293716Z"
    }
   },
   "outputs": [
    {
     "data": {
      "text/html": [
       "<div>\n",
       "<style scoped>\n",
       "    .dataframe tbody tr th:only-of-type {\n",
       "        vertical-align: middle;\n",
       "    }\n",
       "\n",
       "    .dataframe tbody tr th {\n",
       "        vertical-align: top;\n",
       "    }\n",
       "\n",
       "    .dataframe thead th {\n",
       "        text-align: right;\n",
       "    }\n",
       "</style>\n",
       "<table border=\"1\" class=\"dataframe\">\n",
       "  <thead>\n",
       "    <tr style=\"text-align: right;\">\n",
       "      <th></th>\n",
       "      <th>rooms</th>\n",
       "      <th>sq_m</th>\n",
       "      <th>floor</th>\n",
       "      <th>floors_all</th>\n",
       "      <th>year</th>\n",
       "      <th>area1</th>\n",
       "      <th>area2</th>\n",
       "      <th>area3</th>\n",
       "      <th>area4</th>\n",
       "      <th>area5</th>\n",
       "      <th>area6</th>\n",
       "      <th>area7</th>\n",
       "      <th>area8</th>\n",
       "    </tr>\n",
       "  </thead>\n",
       "  <tbody>\n",
       "    <tr>\n",
       "      <th>0</th>\n",
       "      <td>3</td>\n",
       "      <td>78.0</td>\n",
       "      <td>5.0</td>\n",
       "      <td>5.0</td>\n",
       "      <td>2021</td>\n",
       "      <td>0.0</td>\n",
       "      <td>0.0</td>\n",
       "      <td>0.0</td>\n",
       "      <td>0.0</td>\n",
       "      <td>0.0</td>\n",
       "      <td>0.0</td>\n",
       "      <td>1.0</td>\n",
       "      <td>0.0</td>\n",
       "    </tr>\n",
       "    <tr>\n",
       "      <th>1</th>\n",
       "      <td>2</td>\n",
       "      <td>67.0</td>\n",
       "      <td>3.0</td>\n",
       "      <td>6.0</td>\n",
       "      <td>2009</td>\n",
       "      <td>0.0</td>\n",
       "      <td>0.0</td>\n",
       "      <td>0.0</td>\n",
       "      <td>0.0</td>\n",
       "      <td>1.0</td>\n",
       "      <td>0.0</td>\n",
       "      <td>0.0</td>\n",
       "      <td>0.0</td>\n",
       "    </tr>\n",
       "    <tr>\n",
       "      <th>2</th>\n",
       "      <td>1</td>\n",
       "      <td>15.0</td>\n",
       "      <td>4.0</td>\n",
       "      <td>5.0</td>\n",
       "      <td>1984</td>\n",
       "      <td>0.0</td>\n",
       "      <td>1.0</td>\n",
       "      <td>0.0</td>\n",
       "      <td>0.0</td>\n",
       "      <td>0.0</td>\n",
       "      <td>0.0</td>\n",
       "      <td>0.0</td>\n",
       "      <td>0.0</td>\n",
       "    </tr>\n",
       "    <tr>\n",
       "      <th>3</th>\n",
       "      <td>3</td>\n",
       "      <td>75.0</td>\n",
       "      <td>8.0</td>\n",
       "      <td>9.0</td>\n",
       "      <td>2020</td>\n",
       "      <td>0.0</td>\n",
       "      <td>0.0</td>\n",
       "      <td>0.0</td>\n",
       "      <td>0.0</td>\n",
       "      <td>0.0</td>\n",
       "      <td>0.0</td>\n",
       "      <td>1.0</td>\n",
       "      <td>0.0</td>\n",
       "    </tr>\n",
       "    <tr>\n",
       "      <th>4</th>\n",
       "      <td>2</td>\n",
       "      <td>45.0</td>\n",
       "      <td>4.0</td>\n",
       "      <td>4.0</td>\n",
       "      <td>1967</td>\n",
       "      <td>0.0</td>\n",
       "      <td>0.0</td>\n",
       "      <td>1.0</td>\n",
       "      <td>0.0</td>\n",
       "      <td>0.0</td>\n",
       "      <td>0.0</td>\n",
       "      <td>0.0</td>\n",
       "      <td>0.0</td>\n",
       "    </tr>\n",
       "    <tr>\n",
       "      <th>...</th>\n",
       "      <td>...</td>\n",
       "      <td>...</td>\n",
       "      <td>...</td>\n",
       "      <td>...</td>\n",
       "      <td>...</td>\n",
       "      <td>...</td>\n",
       "      <td>...</td>\n",
       "      <td>...</td>\n",
       "      <td>...</td>\n",
       "      <td>...</td>\n",
       "      <td>...</td>\n",
       "      <td>...</td>\n",
       "      <td>...</td>\n",
       "    </tr>\n",
       "    <tr>\n",
       "      <th>10690</th>\n",
       "      <td>3</td>\n",
       "      <td>65.2</td>\n",
       "      <td>5.0</td>\n",
       "      <td>5.0</td>\n",
       "      <td>1993</td>\n",
       "      <td>0.0</td>\n",
       "      <td>0.0</td>\n",
       "      <td>1.0</td>\n",
       "      <td>0.0</td>\n",
       "      <td>0.0</td>\n",
       "      <td>0.0</td>\n",
       "      <td>0.0</td>\n",
       "      <td>0.0</td>\n",
       "    </tr>\n",
       "    <tr>\n",
       "      <th>10691</th>\n",
       "      <td>1</td>\n",
       "      <td>41.0</td>\n",
       "      <td>14.0</td>\n",
       "      <td>14.0</td>\n",
       "      <td>2017</td>\n",
       "      <td>1.0</td>\n",
       "      <td>0.0</td>\n",
       "      <td>0.0</td>\n",
       "      <td>0.0</td>\n",
       "      <td>0.0</td>\n",
       "      <td>0.0</td>\n",
       "      <td>0.0</td>\n",
       "      <td>0.0</td>\n",
       "    </tr>\n",
       "    <tr>\n",
       "      <th>10692</th>\n",
       "      <td>1</td>\n",
       "      <td>44.3</td>\n",
       "      <td>4.0</td>\n",
       "      <td>5.0</td>\n",
       "      <td>2017</td>\n",
       "      <td>1.0</td>\n",
       "      <td>0.0</td>\n",
       "      <td>0.0</td>\n",
       "      <td>0.0</td>\n",
       "      <td>0.0</td>\n",
       "      <td>0.0</td>\n",
       "      <td>0.0</td>\n",
       "      <td>0.0</td>\n",
       "    </tr>\n",
       "    <tr>\n",
       "      <th>10693</th>\n",
       "      <td>1</td>\n",
       "      <td>45.0</td>\n",
       "      <td>3.0</td>\n",
       "      <td>9.0</td>\n",
       "      <td>2010</td>\n",
       "      <td>1.0</td>\n",
       "      <td>0.0</td>\n",
       "      <td>0.0</td>\n",
       "      <td>0.0</td>\n",
       "      <td>0.0</td>\n",
       "      <td>0.0</td>\n",
       "      <td>0.0</td>\n",
       "      <td>0.0</td>\n",
       "    </tr>\n",
       "    <tr>\n",
       "      <th>10694</th>\n",
       "      <td>3</td>\n",
       "      <td>75.0</td>\n",
       "      <td>8.0</td>\n",
       "      <td>9.0</td>\n",
       "      <td>1992</td>\n",
       "      <td>0.0</td>\n",
       "      <td>0.0</td>\n",
       "      <td>1.0</td>\n",
       "      <td>0.0</td>\n",
       "      <td>0.0</td>\n",
       "      <td>0.0</td>\n",
       "      <td>0.0</td>\n",
       "      <td>0.0</td>\n",
       "    </tr>\n",
       "  </tbody>\n",
       "</table>\n",
       "<p>10695 rows × 13 columns</p>\n",
       "</div>"
      ],
      "text/plain": [
       "       rooms  sq_m  floor  floors_all  year  area1  area2  area3  area4  \\\n",
       "0          3  78.0    5.0         5.0  2021    0.0    0.0    0.0    0.0   \n",
       "1          2  67.0    3.0         6.0  2009    0.0    0.0    0.0    0.0   \n",
       "2          1  15.0    4.0         5.0  1984    0.0    1.0    0.0    0.0   \n",
       "3          3  75.0    8.0         9.0  2020    0.0    0.0    0.0    0.0   \n",
       "4          2  45.0    4.0         4.0  1967    0.0    0.0    1.0    0.0   \n",
       "...      ...   ...    ...         ...   ...    ...    ...    ...    ...   \n",
       "10690      3  65.2    5.0         5.0  1993    0.0    0.0    1.0    0.0   \n",
       "10691      1  41.0   14.0        14.0  2017    1.0    0.0    0.0    0.0   \n",
       "10692      1  44.3    4.0         5.0  2017    1.0    0.0    0.0    0.0   \n",
       "10693      1  45.0    3.0         9.0  2010    1.0    0.0    0.0    0.0   \n",
       "10694      3  75.0    8.0         9.0  1992    0.0    0.0    1.0    0.0   \n",
       "\n",
       "       area5  area6  area7  area8  \n",
       "0        0.0    0.0    1.0    0.0  \n",
       "1        1.0    0.0    0.0    0.0  \n",
       "2        0.0    0.0    0.0    0.0  \n",
       "3        0.0    0.0    1.0    0.0  \n",
       "4        0.0    0.0    0.0    0.0  \n",
       "...      ...    ...    ...    ...  \n",
       "10690    0.0    0.0    0.0    0.0  \n",
       "10691    0.0    0.0    0.0    0.0  \n",
       "10692    0.0    0.0    0.0    0.0  \n",
       "10693    0.0    0.0    0.0    0.0  \n",
       "10694    0.0    0.0    0.0    0.0  \n",
       "\n",
       "[10695 rows x 13 columns]"
      ]
     },
     "execution_count": 29,
     "metadata": {},
     "output_type": "execute_result"
    }
   ],
   "source": [
    "X_train"
   ]
  },
  {
   "cell_type": "markdown",
   "metadata": {},
   "source": [
    "# Normalize\n",
    "\n",
    "We should also normalize our data <br>\n",
    "\n",
    "So overall preprocessing: <br>\n",
    "\n",
    "1) Streets_to_area - change streets names in **'area'** to \"district9\" <br>\n",
    "2) year_to_int - change type of column **year** to int and substitue empty string by median year in a given district.<br>\n",
    "3) missing entries - replace missing entries <br>\n",
    "4) one_hot_encoder - one hot encoding of column **area** <br>\n",
    "5) scaler - normalize the data<br>\n",
    "\n",
    "all of the steps are in **preprocess.py**"
   ]
  },
  {
   "cell_type": "code",
   "execution_count": 4,
   "metadata": {
    "ExecuteTime": {
     "end_time": "2022-11-08T11:36:35.189648Z",
     "start_time": "2022-11-08T11:36:29.005641Z"
    }
   },
   "outputs": [],
   "source": [
    "from preprocess import Preprocessing\n",
    "import pandas as pd\n",
    "\n",
    "\n",
    "data = Preprocessing(file_name=\"Data.xlsx\", test_size=0.1, random_state=20, save_artefacts=False)\n",
    "\n",
    "X_train, X_val, X_test = data.preprocess_data()"
   ]
  },
  {
   "cell_type": "code",
   "execution_count": 3,
   "metadata": {
    "ExecuteTime": {
     "end_time": "2022-11-08T10:48:21.560853Z",
     "start_time": "2022-11-08T10:48:21.531452Z"
    }
   },
   "outputs": [
    {
     "data": {
      "text/plain": [
       "((8557, 14), (2143, 14), (1191, 14))"
      ]
     },
     "execution_count": 3,
     "metadata": {},
     "output_type": "execute_result"
    }
   ],
   "source": [
    "X_train.shape, X_val.shape, X_test.shape"
   ]
  },
  {
   "cell_type": "code",
   "execution_count": 5,
   "metadata": {
    "ExecuteTime": {
     "end_time": "2022-11-08T11:36:35.596004Z",
     "start_time": "2022-11-08T11:36:35.577410Z"
    }
   },
   "outputs": [
    {
     "data": {
      "text/html": [
       "<div>\n",
       "<style scoped>\n",
       "    .dataframe tbody tr th:only-of-type {\n",
       "        vertical-align: middle;\n",
       "    }\n",
       "\n",
       "    .dataframe tbody tr th {\n",
       "        vertical-align: top;\n",
       "    }\n",
       "\n",
       "    .dataframe thead th {\n",
       "        text-align: right;\n",
       "    }\n",
       "</style>\n",
       "<table border=\"1\" class=\"dataframe\">\n",
       "  <thead>\n",
       "    <tr style=\"text-align: right;\">\n",
       "      <th></th>\n",
       "      <th>rooms</th>\n",
       "      <th>sq_m</th>\n",
       "      <th>floor</th>\n",
       "      <th>floors_all</th>\n",
       "      <th>year</th>\n",
       "      <th>price</th>\n",
       "      <th>area1</th>\n",
       "      <th>area2</th>\n",
       "      <th>area3</th>\n",
       "      <th>area4</th>\n",
       "      <th>area5</th>\n",
       "      <th>area6</th>\n",
       "      <th>area7</th>\n",
       "      <th>area8</th>\n",
       "    </tr>\n",
       "  </thead>\n",
       "  <tbody>\n",
       "    <tr>\n",
       "      <th>0</th>\n",
       "      <td>-0.180533</td>\n",
       "      <td>0.462088</td>\n",
       "      <td>4.636016</td>\n",
       "      <td>3.119102</td>\n",
       "      <td>0.499968</td>\n",
       "      <td>0.619089</td>\n",
       "      <td>0</td>\n",
       "      <td>0</td>\n",
       "      <td>0</td>\n",
       "      <td>1</td>\n",
       "      <td>0</td>\n",
       "      <td>0</td>\n",
       "      <td>0</td>\n",
       "      <td>0</td>\n",
       "    </tr>\n",
       "    <tr>\n",
       "      <th>1</th>\n",
       "      <td>-0.180533</td>\n",
       "      <td>0.026690</td>\n",
       "      <td>-0.124835</td>\n",
       "      <td>-0.358382</td>\n",
       "      <td>0.548426</td>\n",
       "      <td>-0.383121</td>\n",
       "      <td>0</td>\n",
       "      <td>0</td>\n",
       "      <td>0</td>\n",
       "      <td>0</td>\n",
       "      <td>1</td>\n",
       "      <td>0</td>\n",
       "      <td>0</td>\n",
       "      <td>0</td>\n",
       "    </tr>\n",
       "    <tr>\n",
       "      <th>2</th>\n",
       "      <td>-1.184970</td>\n",
       "      <td>-0.517557</td>\n",
       "      <td>0.767824</td>\n",
       "      <td>1.264444</td>\n",
       "      <td>0.887637</td>\n",
       "      <td>-0.486125</td>\n",
       "      <td>1</td>\n",
       "      <td>0</td>\n",
       "      <td>0</td>\n",
       "      <td>0</td>\n",
       "      <td>0</td>\n",
       "      <td>0</td>\n",
       "      <td>0</td>\n",
       "      <td>0</td>\n",
       "    </tr>\n",
       "    <tr>\n",
       "      <th>3</th>\n",
       "      <td>-1.184970</td>\n",
       "      <td>-0.844105</td>\n",
       "      <td>-0.719942</td>\n",
       "      <td>-0.822047</td>\n",
       "      <td>-1.632214</td>\n",
       "      <td>-0.564075</td>\n",
       "      <td>0</td>\n",
       "      <td>0</td>\n",
       "      <td>0</td>\n",
       "      <td>1</td>\n",
       "      <td>0</td>\n",
       "      <td>0</td>\n",
       "      <td>0</td>\n",
       "      <td>0</td>\n",
       "    </tr>\n",
       "    <tr>\n",
       "      <th>4</th>\n",
       "      <td>1.828341</td>\n",
       "      <td>3.999695</td>\n",
       "      <td>-0.422389</td>\n",
       "      <td>0.337115</td>\n",
       "      <td>0.548426</td>\n",
       "      <td>2.428634</td>\n",
       "      <td>0</td>\n",
       "      <td>0</td>\n",
       "      <td>0</td>\n",
       "      <td>1</td>\n",
       "      <td>0</td>\n",
       "      <td>0</td>\n",
       "      <td>0</td>\n",
       "      <td>0</td>\n",
       "    </tr>\n",
       "    <tr>\n",
       "      <th>...</th>\n",
       "      <td>...</td>\n",
       "      <td>...</td>\n",
       "      <td>...</td>\n",
       "      <td>...</td>\n",
       "      <td>...</td>\n",
       "      <td>...</td>\n",
       "      <td>...</td>\n",
       "      <td>...</td>\n",
       "      <td>...</td>\n",
       "      <td>...</td>\n",
       "      <td>...</td>\n",
       "      <td>...</td>\n",
       "      <td>...</td>\n",
       "      <td>...</td>\n",
       "    </tr>\n",
       "    <tr>\n",
       "      <th>8552</th>\n",
       "      <td>-1.184970</td>\n",
       "      <td>-0.544769</td>\n",
       "      <td>0.767824</td>\n",
       "      <td>0.337115</td>\n",
       "      <td>0.984554</td>\n",
       "      <td>-0.647593</td>\n",
       "      <td>1</td>\n",
       "      <td>0</td>\n",
       "      <td>0</td>\n",
       "      <td>0</td>\n",
       "      <td>0</td>\n",
       "      <td>0</td>\n",
       "      <td>0</td>\n",
       "      <td>0</td>\n",
       "    </tr>\n",
       "    <tr>\n",
       "      <th>8553</th>\n",
       "      <td>-0.180533</td>\n",
       "      <td>0.092000</td>\n",
       "      <td>1.065378</td>\n",
       "      <td>1.959940</td>\n",
       "      <td>0.451509</td>\n",
       "      <td>0.479893</td>\n",
       "      <td>0</td>\n",
       "      <td>0</td>\n",
       "      <td>0</td>\n",
       "      <td>1</td>\n",
       "      <td>0</td>\n",
       "      <td>0</td>\n",
       "      <td>0</td>\n",
       "      <td>0</td>\n",
       "    </tr>\n",
       "    <tr>\n",
       "      <th>8554</th>\n",
       "      <td>-0.180533</td>\n",
       "      <td>0.053903</td>\n",
       "      <td>0.470271</td>\n",
       "      <td>0.337115</td>\n",
       "      <td>0.451509</td>\n",
       "      <td>1.036676</td>\n",
       "      <td>0</td>\n",
       "      <td>0</td>\n",
       "      <td>0</td>\n",
       "      <td>0</td>\n",
       "      <td>0</td>\n",
       "      <td>1</td>\n",
       "      <td>0</td>\n",
       "      <td>0</td>\n",
       "    </tr>\n",
       "    <tr>\n",
       "      <th>8555</th>\n",
       "      <td>-0.180533</td>\n",
       "      <td>-0.299858</td>\n",
       "      <td>-1.017495</td>\n",
       "      <td>-1.517544</td>\n",
       "      <td>-1.777590</td>\n",
       "      <td>-0.494477</td>\n",
       "      <td>1</td>\n",
       "      <td>0</td>\n",
       "      <td>0</td>\n",
       "      <td>0</td>\n",
       "      <td>0</td>\n",
       "      <td>0</td>\n",
       "      <td>0</td>\n",
       "      <td>0</td>\n",
       "    </tr>\n",
       "    <tr>\n",
       "      <th>8556</th>\n",
       "      <td>-0.180533</td>\n",
       "      <td>-0.082159</td>\n",
       "      <td>-0.124835</td>\n",
       "      <td>0.337115</td>\n",
       "      <td>-0.614582</td>\n",
       "      <td>-0.216086</td>\n",
       "      <td>0</td>\n",
       "      <td>0</td>\n",
       "      <td>1</td>\n",
       "      <td>0</td>\n",
       "      <td>0</td>\n",
       "      <td>0</td>\n",
       "      <td>0</td>\n",
       "      <td>0</td>\n",
       "    </tr>\n",
       "  </tbody>\n",
       "</table>\n",
       "<p>8557 rows × 14 columns</p>\n",
       "</div>"
      ],
      "text/plain": [
       "         rooms      sq_m     floor  floors_all      year     price  area1  \\\n",
       "0    -0.180533  0.462088  4.636016    3.119102  0.499968  0.619089      0   \n",
       "1    -0.180533  0.026690 -0.124835   -0.358382  0.548426 -0.383121      0   \n",
       "2    -1.184970 -0.517557  0.767824    1.264444  0.887637 -0.486125      1   \n",
       "3    -1.184970 -0.844105 -0.719942   -0.822047 -1.632214 -0.564075      0   \n",
       "4     1.828341  3.999695 -0.422389    0.337115  0.548426  2.428634      0   \n",
       "...        ...       ...       ...         ...       ...       ...    ...   \n",
       "8552 -1.184970 -0.544769  0.767824    0.337115  0.984554 -0.647593      1   \n",
       "8553 -0.180533  0.092000  1.065378    1.959940  0.451509  0.479893      0   \n",
       "8554 -0.180533  0.053903  0.470271    0.337115  0.451509  1.036676      0   \n",
       "8555 -0.180533 -0.299858 -1.017495   -1.517544 -1.777590 -0.494477      1   \n",
       "8556 -0.180533 -0.082159 -0.124835    0.337115 -0.614582 -0.216086      0   \n",
       "\n",
       "      area2  area3  area4  area5  area6  area7  area8  \n",
       "0         0      0      1      0      0      0      0  \n",
       "1         0      0      0      1      0      0      0  \n",
       "2         0      0      0      0      0      0      0  \n",
       "3         0      0      1      0      0      0      0  \n",
       "4         0      0      1      0      0      0      0  \n",
       "...     ...    ...    ...    ...    ...    ...    ...  \n",
       "8552      0      0      0      0      0      0      0  \n",
       "8553      0      0      1      0      0      0      0  \n",
       "8554      0      0      0      0      1      0      0  \n",
       "8555      0      0      0      0      0      0      0  \n",
       "8556      0      1      0      0      0      0      0  \n",
       "\n",
       "[8557 rows x 14 columns]"
      ]
     },
     "execution_count": 5,
     "metadata": {},
     "output_type": "execute_result"
    }
   ],
   "source": [
    "X_train"
   ]
  }
 ],
 "metadata": {
  "kernelspec": {
   "display_name": "Python 3",
   "language": "python",
   "name": "python3"
  },
  "language_info": {
   "codemirror_mode": {
    "name": "ipython",
    "version": 3
   },
   "file_extension": ".py",
   "mimetype": "text/x-python",
   "name": "python",
   "nbconvert_exporter": "python",
   "pygments_lexer": "ipython3",
   "version": "3.8.3"
  },
  "toc": {
   "base_numbering": 1,
   "nav_menu": {},
   "number_sections": true,
   "sideBar": true,
   "skip_h1_title": false,
   "title_cell": "Table of Contents",
   "title_sidebar": "Contents",
   "toc_cell": false,
   "toc_position": {},
   "toc_section_display": true,
   "toc_window_display": false
  },
  "varInspector": {
   "cols": {
    "lenName": 16,
    "lenType": 16,
    "lenVar": 40
   },
   "kernels_config": {
    "python": {
     "delete_cmd_postfix": "",
     "delete_cmd_prefix": "del ",
     "library": "var_list.py",
     "varRefreshCmd": "print(var_dic_list())"
    },
    "r": {
     "delete_cmd_postfix": ") ",
     "delete_cmd_prefix": "rm(",
     "library": "var_list.r",
     "varRefreshCmd": "cat(var_dic_list()) "
    }
   },
   "types_to_exclude": [
    "module",
    "function",
    "builtin_function_or_method",
    "instance",
    "_Feature"
   ],
   "window_display": false
  }
 },
 "nbformat": 4,
 "nbformat_minor": 4
}
