{
 "cells": [
  {
   "cell_type": "code",
   "execution_count": 13,
   "id": "3b5de066",
   "metadata": {
    "ExecuteTime": {
     "end_time": "2022-11-08T11:41:15.041685Z",
     "start_time": "2022-11-08T11:41:14.119809Z"
    }
   },
   "outputs": [],
   "source": [
    "import pandas as pd\n",
    "import matplotlib.pyplot as plt\n",
    "import seaborn as sns\n",
    "import warnings\n",
    "import pickle\n",
    "warnings.simplefilter(\"ignore\")\n",
    "%matplotlib inline\n",
    "\n",
    "sns.set(style=\"darkgrid\")\n",
    "    \n",
    "from preprocess import Preprocessing\n",
    "from sklearn.model_selection import train_test_split\n",
    "df = pd.read_excel(\"Data.xlsx\")"
   ]
  },
  {
   "cell_type": "code",
   "execution_count": 99,
   "id": "cb6d91da",
   "metadata": {
    "ExecuteTime": {
     "end_time": "2022-11-08T12:32:32.811178Z",
     "start_time": "2022-11-08T12:32:32.807713Z"
    }
   },
   "outputs": [],
   "source": [
    "target_scaler = pickle.load(open('./utils/target_scaler.pkl','rb'))\n",
    "feature_scaler = pickle.load(open('./utils/feature_scaler.pkl','rb'))\n",
    "one_hot_enc = pickle.load(open('./utils/one_hot_enc.pkl','rb'))\n",
    "\n",
    "year_median_floor = pickle.load(open('./utils/year_median_floor.pkl','rb'))\n",
    "area_median_year = pickle.load(open('./utils/area_median_year.pkl','rb'))"
   ]
  },
  {
   "cell_type": "code",
   "execution_count": 212,
   "id": "98398b5e",
   "metadata": {
    "ExecuteTime": {
     "end_time": "2022-11-08T13:10:12.086336Z",
     "start_time": "2022-11-08T13:10:12.062919Z"
    }
   },
   "outputs": [],
   "source": [
    "almaty_areas = ['Ауэзовский', 'Бостандыкский', 'Алмалинский', 'Алатауский', 'Медеуский', 'Наурызбайский', 'Турксибский',\n",
    "                'Жетысуский']\n",
    "\n",
    "def streets_to_area(curr_area):\n",
    "   \n",
    "    if curr_area.item() not in almaty_areas:\n",
    "        return 'district9'\n",
    "    return curr_area.item()\n",
    "\n",
    "def year_to_int(df):\n",
    "    try:\n",
    "        curr_year = int(df['year'])\n",
    "    except:\n",
    "        curr_year = area_median_year[df['area'].item()]\n",
    "    return curr_year\n",
    "\n",
    "def one_hot(df):\n",
    "    res = one_hot_enc.transform(df['area'][:, None]).toarray()\n",
    "    cols_name = [f'area{i}' for i in range(1, 9)]\n",
    "    df_train_one_hot = pd.DataFrame(res, columns=cols_name, dtype=int)\n",
    "    df = pd.concat([df, df_train_one_hot], axis=1)\n",
    "    df.drop(columns=['area'], inplace=True)\n",
    "    return df\n",
    "\n",
    "def scale_data(df):\n",
    "    numeric_features = ['rooms', 'sq_m', 'floor', 'floors_all', 'year']\n",
    "    df[numeric_features] = feature_scaler.transform(df[numeric_features])\n",
    "    \n",
    "\n",
    "\n",
    "def preprocess(curr_dict):\n",
    "    df = pd.DataFrame(curr_dict, index=[0])\n",
    "    df['area'] = streets_to_area(df['area'])\n",
    "    df['year'] = year_to_int(df)\n",
    "    scale_data(df)\n",
    "    df = one_hot(df)\n",
    "    \n",
    "    return df\n",
    "    \n",
    "    "
   ]
  },
  {
   "cell_type": "code",
   "execution_count": 213,
   "id": "a0f0670a",
   "metadata": {
    "ExecuteTime": {
     "end_time": "2022-11-08T13:10:13.623747Z",
     "start_time": "2022-11-08T13:10:12.691908Z"
    }
   },
   "outputs": [
    {
     "data": {
      "text/plain": [
       "{'rooms': 2,\n",
       " 'sq_m': 76.0,\n",
       " 'floor': 8.0,\n",
       " 'floors_all': 19.0,\n",
       " 'area': 'Алмалинский',\n",
       " 'year': '2012'}"
      ]
     },
     "execution_count": 213,
     "metadata": {},
     "output_type": "execute_result"
    }
   ],
   "source": [
    "df = pd.read_excel(\"Data.xlsx\")\n",
    "input_dict = df.iloc[0].to_dict()\n",
    "\n",
    "\n",
    "del input_dict['urls']\n",
    "del input_dict['price']\n",
    "input_dict"
   ]
  },
  {
   "cell_type": "code",
   "execution_count": 214,
   "id": "d6fd9b58",
   "metadata": {
    "ExecuteTime": {
     "end_time": "2022-11-08T13:10:13.666819Z",
     "start_time": "2022-11-08T13:10:13.656103Z"
    }
   },
   "outputs": [],
   "source": [
    "ddf = preprocess(input_dict)"
   ]
  },
  {
   "cell_type": "code",
   "execution_count": 216,
   "id": "5cd42bb3",
   "metadata": {
    "ExecuteTime": {
     "end_time": "2022-11-08T13:10:16.058543Z",
     "start_time": "2022-11-08T13:10:16.047934Z"
    }
   },
   "outputs": [
    {
     "data": {
      "text/html": [
       "<div>\n",
       "<style scoped>\n",
       "    .dataframe tbody tr th:only-of-type {\n",
       "        vertical-align: middle;\n",
       "    }\n",
       "\n",
       "    .dataframe tbody tr th {\n",
       "        vertical-align: top;\n",
       "    }\n",
       "\n",
       "    .dataframe thead th {\n",
       "        text-align: right;\n",
       "    }\n",
       "</style>\n",
       "<table border=\"1\" class=\"dataframe\">\n",
       "  <thead>\n",
       "    <tr style=\"text-align: right;\">\n",
       "      <th></th>\n",
       "      <th>rooms</th>\n",
       "      <th>sq_m</th>\n",
       "      <th>floor</th>\n",
       "      <th>floors_all</th>\n",
       "      <th>year</th>\n",
       "      <th>area1</th>\n",
       "      <th>area2</th>\n",
       "      <th>area3</th>\n",
       "      <th>area4</th>\n",
       "      <th>area5</th>\n",
       "      <th>area6</th>\n",
       "      <th>area7</th>\n",
       "      <th>area8</th>\n",
       "    </tr>\n",
       "  </thead>\n",
       "  <tbody>\n",
       "    <tr>\n",
       "      <th>0</th>\n",
       "      <td>-0.180533</td>\n",
       "      <td>0.353239</td>\n",
       "      <td>1.065378</td>\n",
       "      <td>2.655437</td>\n",
       "      <td>0.742261</td>\n",
       "      <td>0</td>\n",
       "      <td>1</td>\n",
       "      <td>0</td>\n",
       "      <td>0</td>\n",
       "      <td>0</td>\n",
       "      <td>0</td>\n",
       "      <td>0</td>\n",
       "      <td>0</td>\n",
       "    </tr>\n",
       "  </tbody>\n",
       "</table>\n",
       "</div>"
      ],
      "text/plain": [
       "      rooms      sq_m     floor  floors_all      year  area1  area2  area3  \\\n",
       "0 -0.180533  0.353239  1.065378    2.655437  0.742261      0      1      0   \n",
       "\n",
       "   area4  area5  area6  area7  area8  \n",
       "0      0      0      0      0      0  "
      ]
     },
     "execution_count": 216,
     "metadata": {},
     "output_type": "execute_result"
    }
   ],
   "source": [
    "ddf"
   ]
  },
  {
   "cell_type": "code",
   "execution_count": 215,
   "id": "f0d59394",
   "metadata": {
    "ExecuteTime": {
     "end_time": "2022-11-08T13:10:13.809214Z",
     "start_time": "2022-11-08T13:10:13.804641Z"
    }
   },
   "outputs": [
    {
     "data": {
      "text/plain": [
       "'Алмалинский'"
      ]
     },
     "execution_count": 215,
     "metadata": {},
     "output_type": "execute_result"
    }
   ],
   "source": [
    "input_dict.pop('area')"
   ]
  },
  {
   "cell_type": "code",
   "execution_count": 119,
   "id": "802a7d17",
   "metadata": {
    "ExecuteTime": {
     "end_time": "2022-11-08T12:47:21.342287Z",
     "start_time": "2022-11-08T12:47:21.339873Z"
    }
   },
   "outputs": [],
   "source": [
    "dict_you_want = {key: input_dict[key] for key in input_dict.keys() if key != 'area'}"
   ]
  },
  {
   "cell_type": "code",
   "execution_count": 134,
   "id": "2113a6c1",
   "metadata": {
    "ExecuteTime": {
     "end_time": "2022-11-08T12:51:46.925778Z",
     "start_time": "2022-11-08T12:51:46.911319Z"
    }
   },
   "outputs": [
    {
     "data": {
      "text/plain": [
       "array([[-0.18053339,  0.35323875,  1.06537755,  2.65543726,  0.74226084]])"
      ]
     },
     "execution_count": 134,
     "metadata": {},
     "output_type": "execute_result"
    }
   ],
   "source": [
    "feature_scaler.transform(pd.DataFrame(dict_you_want, index=[0]))"
   ]
  },
  {
   "cell_type": "code",
   "execution_count": 123,
   "id": "c6e2ead4",
   "metadata": {
    "ExecuteTime": {
     "end_time": "2022-11-08T12:48:05.478793Z",
     "start_time": "2022-11-08T12:48:05.473745Z"
    }
   },
   "outputs": [],
   "source": [
    "dict_you_want['year'] = int(dict_you_want['year'])"
   ]
  },
  {
   "cell_type": "code",
   "execution_count": 135,
   "id": "f9c1965e",
   "metadata": {
    "ExecuteTime": {
     "end_time": "2022-11-08T12:52:58.174196Z",
     "start_time": "2022-11-08T12:52:58.165288Z"
    }
   },
   "outputs": [
    {
     "data": {
      "text/html": [
       "<div>\n",
       "<style scoped>\n",
       "    .dataframe tbody tr th:only-of-type {\n",
       "        vertical-align: middle;\n",
       "    }\n",
       "\n",
       "    .dataframe tbody tr th {\n",
       "        vertical-align: top;\n",
       "    }\n",
       "\n",
       "    .dataframe thead th {\n",
       "        text-align: right;\n",
       "    }\n",
       "</style>\n",
       "<table border=\"1\" class=\"dataframe\">\n",
       "  <thead>\n",
       "    <tr style=\"text-align: right;\">\n",
       "      <th></th>\n",
       "      <th>rooms</th>\n",
       "      <th>sq_m</th>\n",
       "      <th>floor</th>\n",
       "      <th>floors_all</th>\n",
       "      <th>area</th>\n",
       "      <th>year</th>\n",
       "    </tr>\n",
       "  </thead>\n",
       "  <tbody>\n",
       "    <tr>\n",
       "      <th>0</th>\n",
       "      <td>2</td>\n",
       "      <td>76.0</td>\n",
       "      <td>8.0</td>\n",
       "      <td>19.0</td>\n",
       "      <td>Алмалинский</td>\n",
       "      <td>2012</td>\n",
       "    </tr>\n",
       "  </tbody>\n",
       "</table>\n",
       "</div>"
      ],
      "text/plain": [
       "   rooms  sq_m  floor  floors_all         area  year\n",
       "0      2  76.0    8.0        19.0  Алмалинский  2012"
      ]
     },
     "execution_count": 135,
     "metadata": {},
     "output_type": "execute_result"
    }
   ],
   "source": [
    "pd.DataFrame(input_dict, index=[0])"
   ]
  },
  {
   "cell_type": "code",
   "execution_count": 117,
   "id": "f477699b",
   "metadata": {
    "ExecuteTime": {
     "end_time": "2022-11-08T12:46:56.222129Z",
     "start_time": "2022-11-08T12:46:56.219636Z"
    }
   },
   "outputs": [],
   "source": [
    "for key in input_dict.keys():\n",
    "    break"
   ]
  },
  {
   "cell_type": "code",
   "execution_count": 118,
   "id": "e1b58e7b",
   "metadata": {
    "ExecuteTime": {
     "end_time": "2022-11-08T12:46:57.941109Z",
     "start_time": "2022-11-08T12:46:57.930846Z"
    }
   },
   "outputs": [
    {
     "data": {
      "text/plain": [
       "'rooms'"
      ]
     },
     "execution_count": 118,
     "metadata": {},
     "output_type": "execute_result"
    }
   ],
   "source": [
    "key"
   ]
  },
  {
   "cell_type": "code",
   "execution_count": 106,
   "id": "63cb3d2c",
   "metadata": {
    "ExecuteTime": {
     "end_time": "2022-11-08T12:36:16.420242Z",
     "start_time": "2022-11-08T12:36:16.417868Z"
    }
   },
   "outputs": [],
   "source": [
    "input_dict['year'] = ''"
   ]
  },
  {
   "cell_type": "code",
   "execution_count": 107,
   "id": "2208cea0",
   "metadata": {
    "ExecuteTime": {
     "end_time": "2022-11-08T12:36:17.797681Z",
     "start_time": "2022-11-08T12:36:17.791604Z"
    }
   },
   "outputs": [],
   "source": [
    "curr_dict = preprocess(input_dict)"
   ]
  },
  {
   "cell_type": "code",
   "execution_count": 109,
   "id": "a672a352",
   "metadata": {
    "ExecuteTime": {
     "end_time": "2022-11-08T12:36:42.845641Z",
     "start_time": "2022-11-08T12:36:42.835042Z"
    }
   },
   "outputs": [
    {
     "data": {
      "text/plain": [
       "{'(1990 - 2010]': 9.0, '[ - 1990]': 5.0, '[2010 - )': 10.0}"
      ]
     },
     "execution_count": 109,
     "metadata": {},
     "output_type": "execute_result"
    }
   ],
   "source": [
    "year_median_floor"
   ]
  },
  {
   "cell_type": "code",
   "execution_count": 100,
   "id": "96b2ca61",
   "metadata": {
    "ExecuteTime": {
     "end_time": "2022-11-08T12:34:04.258391Z",
     "start_time": "2022-11-08T12:34:04.253404Z"
    }
   },
   "outputs": [
    {
     "data": {
      "text/plain": [
       "{'district9': 2013,\n",
       " 'Алатауский': 2015,\n",
       " 'Алмалинский': 1984,\n",
       " 'Ауэзовский': 1986,\n",
       " 'Бостандыкский': 1991,\n",
       " 'Жетысуский': 1990,\n",
       " 'Медеуский': 2007,\n",
       " 'Наурызбайский': 2019,\n",
       " 'Турксибский': 1991}"
      ]
     },
     "execution_count": 100,
     "metadata": {},
     "output_type": "execute_result"
    }
   ],
   "source": [
    "area_median_year"
   ]
  },
  {
   "cell_type": "code",
   "execution_count": 97,
   "id": "5943dadf",
   "metadata": {
    "ExecuteTime": {
     "end_time": "2022-11-08T12:26:33.232955Z",
     "start_time": "2022-11-08T12:26:33.204147Z"
    }
   },
   "outputs": [],
   "source": [
    "df = pd.read_csv(f'./data/train.csv')"
   ]
  },
  {
   "cell_type": "code",
   "execution_count": 98,
   "id": "55eb24aa",
   "metadata": {
    "ExecuteTime": {
     "end_time": "2022-11-08T12:26:35.555794Z",
     "start_time": "2022-11-08T12:26:35.541084Z"
    }
   },
   "outputs": [
    {
     "data": {
      "text/html": [
       "<div>\n",
       "<style scoped>\n",
       "    .dataframe tbody tr th:only-of-type {\n",
       "        vertical-align: middle;\n",
       "    }\n",
       "\n",
       "    .dataframe tbody tr th {\n",
       "        vertical-align: top;\n",
       "    }\n",
       "\n",
       "    .dataframe thead th {\n",
       "        text-align: right;\n",
       "    }\n",
       "</style>\n",
       "<table border=\"1\" class=\"dataframe\">\n",
       "  <thead>\n",
       "    <tr style=\"text-align: right;\">\n",
       "      <th></th>\n",
       "      <th>rooms</th>\n",
       "      <th>sq_m</th>\n",
       "      <th>floor</th>\n",
       "      <th>floors_all</th>\n",
       "      <th>year</th>\n",
       "      <th>price</th>\n",
       "      <th>area1</th>\n",
       "      <th>area2</th>\n",
       "      <th>area3</th>\n",
       "      <th>area4</th>\n",
       "      <th>area5</th>\n",
       "      <th>area6</th>\n",
       "      <th>area7</th>\n",
       "      <th>area8</th>\n",
       "    </tr>\n",
       "  </thead>\n",
       "  <tbody>\n",
       "    <tr>\n",
       "      <th>0</th>\n",
       "      <td>2</td>\n",
       "      <td>80.0</td>\n",
       "      <td>20.0</td>\n",
       "      <td>21.0</td>\n",
       "      <td>2007</td>\n",
       "      <td>65000000</td>\n",
       "      <td>0</td>\n",
       "      <td>0</td>\n",
       "      <td>0</td>\n",
       "      <td>1</td>\n",
       "      <td>0</td>\n",
       "      <td>0</td>\n",
       "      <td>0</td>\n",
       "      <td>0</td>\n",
       "    </tr>\n",
       "    <tr>\n",
       "      <th>1</th>\n",
       "      <td>2</td>\n",
       "      <td>64.0</td>\n",
       "      <td>4.0</td>\n",
       "      <td>6.0</td>\n",
       "      <td>2008</td>\n",
       "      <td>29000000</td>\n",
       "      <td>0</td>\n",
       "      <td>0</td>\n",
       "      <td>0</td>\n",
       "      <td>0</td>\n",
       "      <td>1</td>\n",
       "      <td>0</td>\n",
       "      <td>0</td>\n",
       "      <td>0</td>\n",
       "    </tr>\n",
       "    <tr>\n",
       "      <th>2</th>\n",
       "      <td>1</td>\n",
       "      <td>44.0</td>\n",
       "      <td>7.0</td>\n",
       "      <td>13.0</td>\n",
       "      <td>2015</td>\n",
       "      <td>25300000</td>\n",
       "      <td>1</td>\n",
       "      <td>0</td>\n",
       "      <td>0</td>\n",
       "      <td>0</td>\n",
       "      <td>0</td>\n",
       "      <td>0</td>\n",
       "      <td>0</td>\n",
       "      <td>0</td>\n",
       "    </tr>\n",
       "    <tr>\n",
       "      <th>3</th>\n",
       "      <td>1</td>\n",
       "      <td>32.0</td>\n",
       "      <td>2.0</td>\n",
       "      <td>4.0</td>\n",
       "      <td>1963</td>\n",
       "      <td>22500000</td>\n",
       "      <td>0</td>\n",
       "      <td>0</td>\n",
       "      <td>0</td>\n",
       "      <td>1</td>\n",
       "      <td>0</td>\n",
       "      <td>0</td>\n",
       "      <td>0</td>\n",
       "      <td>0</td>\n",
       "    </tr>\n",
       "    <tr>\n",
       "      <th>4</th>\n",
       "      <td>4</td>\n",
       "      <td>210.0</td>\n",
       "      <td>3.0</td>\n",
       "      <td>9.0</td>\n",
       "      <td>2008</td>\n",
       "      <td>130000000</td>\n",
       "      <td>0</td>\n",
       "      <td>0</td>\n",
       "      <td>0</td>\n",
       "      <td>1</td>\n",
       "      <td>0</td>\n",
       "      <td>0</td>\n",
       "      <td>0</td>\n",
       "      <td>0</td>\n",
       "    </tr>\n",
       "    <tr>\n",
       "      <th>...</th>\n",
       "      <td>...</td>\n",
       "      <td>...</td>\n",
       "      <td>...</td>\n",
       "      <td>...</td>\n",
       "      <td>...</td>\n",
       "      <td>...</td>\n",
       "      <td>...</td>\n",
       "      <td>...</td>\n",
       "      <td>...</td>\n",
       "      <td>...</td>\n",
       "      <td>...</td>\n",
       "      <td>...</td>\n",
       "      <td>...</td>\n",
       "      <td>...</td>\n",
       "    </tr>\n",
       "    <tr>\n",
       "      <th>8552</th>\n",
       "      <td>1</td>\n",
       "      <td>43.0</td>\n",
       "      <td>7.0</td>\n",
       "      <td>9.0</td>\n",
       "      <td>2017</td>\n",
       "      <td>19500000</td>\n",
       "      <td>1</td>\n",
       "      <td>0</td>\n",
       "      <td>0</td>\n",
       "      <td>0</td>\n",
       "      <td>0</td>\n",
       "      <td>0</td>\n",
       "      <td>0</td>\n",
       "      <td>0</td>\n",
       "    </tr>\n",
       "    <tr>\n",
       "      <th>8553</th>\n",
       "      <td>2</td>\n",
       "      <td>66.4</td>\n",
       "      <td>8.0</td>\n",
       "      <td>16.0</td>\n",
       "      <td>2006</td>\n",
       "      <td>60000000</td>\n",
       "      <td>0</td>\n",
       "      <td>0</td>\n",
       "      <td>0</td>\n",
       "      <td>1</td>\n",
       "      <td>0</td>\n",
       "      <td>0</td>\n",
       "      <td>0</td>\n",
       "      <td>0</td>\n",
       "    </tr>\n",
       "    <tr>\n",
       "      <th>8554</th>\n",
       "      <td>2</td>\n",
       "      <td>65.0</td>\n",
       "      <td>6.0</td>\n",
       "      <td>9.0</td>\n",
       "      <td>2006</td>\n",
       "      <td>80000000</td>\n",
       "      <td>0</td>\n",
       "      <td>0</td>\n",
       "      <td>0</td>\n",
       "      <td>0</td>\n",
       "      <td>0</td>\n",
       "      <td>1</td>\n",
       "      <td>0</td>\n",
       "      <td>0</td>\n",
       "    </tr>\n",
       "    <tr>\n",
       "      <th>8555</th>\n",
       "      <td>2</td>\n",
       "      <td>52.0</td>\n",
       "      <td>1.0</td>\n",
       "      <td>1.0</td>\n",
       "      <td>1960</td>\n",
       "      <td>25000000</td>\n",
       "      <td>1</td>\n",
       "      <td>0</td>\n",
       "      <td>0</td>\n",
       "      <td>0</td>\n",
       "      <td>0</td>\n",
       "      <td>0</td>\n",
       "      <td>0</td>\n",
       "      <td>0</td>\n",
       "    </tr>\n",
       "    <tr>\n",
       "      <th>8556</th>\n",
       "      <td>2</td>\n",
       "      <td>60.0</td>\n",
       "      <td>4.0</td>\n",
       "      <td>9.0</td>\n",
       "      <td>1984</td>\n",
       "      <td>35000000</td>\n",
       "      <td>0</td>\n",
       "      <td>0</td>\n",
       "      <td>1</td>\n",
       "      <td>0</td>\n",
       "      <td>0</td>\n",
       "      <td>0</td>\n",
       "      <td>0</td>\n",
       "      <td>0</td>\n",
       "    </tr>\n",
       "  </tbody>\n",
       "</table>\n",
       "<p>8557 rows × 14 columns</p>\n",
       "</div>"
      ],
      "text/plain": [
       "      rooms   sq_m  floor  floors_all  year      price  area1  area2  area3  \\\n",
       "0         2   80.0   20.0        21.0  2007   65000000      0      0      0   \n",
       "1         2   64.0    4.0         6.0  2008   29000000      0      0      0   \n",
       "2         1   44.0    7.0        13.0  2015   25300000      1      0      0   \n",
       "3         1   32.0    2.0         4.0  1963   22500000      0      0      0   \n",
       "4         4  210.0    3.0         9.0  2008  130000000      0      0      0   \n",
       "...     ...    ...    ...         ...   ...        ...    ...    ...    ...   \n",
       "8552      1   43.0    7.0         9.0  2017   19500000      1      0      0   \n",
       "8553      2   66.4    8.0        16.0  2006   60000000      0      0      0   \n",
       "8554      2   65.0    6.0         9.0  2006   80000000      0      0      0   \n",
       "8555      2   52.0    1.0         1.0  1960   25000000      1      0      0   \n",
       "8556      2   60.0    4.0         9.0  1984   35000000      0      0      1   \n",
       "\n",
       "      area4  area5  area6  area7  area8  \n",
       "0         1      0      0      0      0  \n",
       "1         0      1      0      0      0  \n",
       "2         0      0      0      0      0  \n",
       "3         1      0      0      0      0  \n",
       "4         1      0      0      0      0  \n",
       "...     ...    ...    ...    ...    ...  \n",
       "8552      0      0      0      0      0  \n",
       "8553      1      0      0      0      0  \n",
       "8554      0      0      1      0      0  \n",
       "8555      0      0      0      0      0  \n",
       "8556      0      0      0      0      0  \n",
       "\n",
       "[8557 rows x 14 columns]"
      ]
     },
     "execution_count": 98,
     "metadata": {},
     "output_type": "execute_result"
    }
   ],
   "source": [
    "df"
   ]
  },
  {
   "cell_type": "code",
   "execution_count": 49,
   "id": "01f6b826",
   "metadata": {
    "ExecuteTime": {
     "end_time": "2022-11-08T12:00:10.664826Z",
     "start_time": "2022-11-08T12:00:10.656943Z"
    }
   },
   "outputs": [],
   "source": [
    "\\"
   ]
  },
  {
   "cell_type": "code",
   "execution_count": 50,
   "id": "93c0b8d5",
   "metadata": {
    "ExecuteTime": {
     "end_time": "2022-11-08T12:00:11.413990Z",
     "start_time": "2022-11-08T12:00:11.410418Z"
    }
   },
   "outputs": [
    {
     "data": {
      "text/plain": [
       "{'rooms': 2,\n",
       " 'sq_m': 76.0,\n",
       " 'floor': 8.0,\n",
       " 'floors_all': 19.0,\n",
       " 'area': 'Алмалинский',\n",
       " 'year': '2012'}"
      ]
     },
     "execution_count": 50,
     "metadata": {},
     "output_type": "execute_result"
    }
   ],
   "source": [
    "input_dict"
   ]
  },
  {
   "cell_type": "code",
   "execution_count": 59,
   "id": "a3a5f22e",
   "metadata": {
    "ExecuteTime": {
     "end_time": "2022-11-08T12:04:14.460090Z",
     "start_time": "2022-11-08T12:04:14.444794Z"
    }
   },
   "outputs": [
    {
     "ename": "ValueError",
     "evalue": "cannot use columns parameter with orient='columns'",
     "output_type": "error",
     "traceback": [
      "\u001b[0;31m---------------------------------------------------------------------------\u001b[0m",
      "\u001b[0;31mValueError\u001b[0m                                Traceback (most recent call last)",
      "\u001b[0;32m<ipython-input-59-b8593e3b6ad0>\u001b[0m in \u001b[0;36m<module>\u001b[0;34m\u001b[0m\n\u001b[0;32m----> 1\u001b[0;31m \u001b[0mpd\u001b[0m\u001b[0;34m.\u001b[0m\u001b[0mDataFrame\u001b[0m\u001b[0;34m.\u001b[0m\u001b[0mfrom_dict\u001b[0m\u001b[0;34m(\u001b[0m\u001b[0minput_dict\u001b[0m\u001b[0;34m.\u001b[0m\u001b[0mitems\u001b[0m\u001b[0;34m(\u001b[0m\u001b[0;34m)\u001b[0m\u001b[0;34m,\u001b[0m \u001b[0mcolumns\u001b[0m\u001b[0;34m=\u001b[0m\u001b[0;34m[\u001b[0m\u001b[0;34m'rooms'\u001b[0m\u001b[0;34m,\u001b[0m \u001b[0;34m'sq_m'\u001b[0m\u001b[0;34m,\u001b[0m \u001b[0;34m'floor'\u001b[0m\u001b[0;34m,\u001b[0m \u001b[0;34m'floors_all'\u001b[0m\u001b[0;34m,\u001b[0m \u001b[0;34m'area'\u001b[0m\u001b[0;34m,\u001b[0m \u001b[0;34m'year'\u001b[0m\u001b[0;34m]\u001b[0m\u001b[0;34m)\u001b[0m\u001b[0;34m\u001b[0m\u001b[0;34m\u001b[0m\u001b[0m\n\u001b[0m",
      "\u001b[0;32m~/anaconda3/lib/python3.8/site-packages/pandas/core/frame.py\u001b[0m in \u001b[0;36mfrom_dict\u001b[0;34m(cls, data, orient, dtype, columns)\u001b[0m\n\u001b[1;32m   1303\u001b[0m         \u001b[0;32melif\u001b[0m \u001b[0morient\u001b[0m \u001b[0;34m==\u001b[0m \u001b[0;34m\"columns\"\u001b[0m\u001b[0;34m:\u001b[0m\u001b[0;34m\u001b[0m\u001b[0;34m\u001b[0m\u001b[0m\n\u001b[1;32m   1304\u001b[0m             \u001b[0;32mif\u001b[0m \u001b[0mcolumns\u001b[0m \u001b[0;32mis\u001b[0m \u001b[0;32mnot\u001b[0m \u001b[0;32mNone\u001b[0m\u001b[0;34m:\u001b[0m\u001b[0;34m\u001b[0m\u001b[0;34m\u001b[0m\u001b[0m\n\u001b[0;32m-> 1305\u001b[0;31m                 \u001b[0;32mraise\u001b[0m \u001b[0mValueError\u001b[0m\u001b[0;34m(\u001b[0m\u001b[0;34m\"cannot use columns parameter with orient='columns'\"\u001b[0m\u001b[0;34m)\u001b[0m\u001b[0;34m\u001b[0m\u001b[0;34m\u001b[0m\u001b[0m\n\u001b[0m\u001b[1;32m   1306\u001b[0m         \u001b[0;32melse\u001b[0m\u001b[0;34m:\u001b[0m  \u001b[0;31m# pragma: no cover\u001b[0m\u001b[0;34m\u001b[0m\u001b[0;34m\u001b[0m\u001b[0m\n\u001b[1;32m   1307\u001b[0m             \u001b[0;32mraise\u001b[0m \u001b[0mValueError\u001b[0m\u001b[0;34m(\u001b[0m\u001b[0;34m\"only recognize index or columns for orient\"\u001b[0m\u001b[0;34m)\u001b[0m\u001b[0;34m\u001b[0m\u001b[0;34m\u001b[0m\u001b[0m\n",
      "\u001b[0;31mValueError\u001b[0m: cannot use columns parameter with orient='columns'"
     ]
    }
   ],
   "source": [
    "pd.DataFrame.from_dict(input_dict.items(), columns=['rooms', 'sq_m', 'floor', 'floors_all', 'area', 'year'])"
   ]
  },
  {
   "cell_type": "code",
   "execution_count": 53,
   "id": "03cb4b99",
   "metadata": {
    "ExecuteTime": {
     "end_time": "2022-11-08T12:01:12.460481Z",
     "start_time": "2022-11-08T12:01:12.449477Z"
    }
   },
   "outputs": [
    {
     "data": {
      "text/plain": [
       "dict_keys(['rooms', 'sq_m', 'floor', 'floors_all', 'area', 'year'])"
      ]
     },
     "execution_count": 53,
     "metadata": {},
     "output_type": "execute_result"
    }
   ],
   "source": [
    "input_dict.keys()"
   ]
  },
  {
   "cell_type": "code",
   "execution_count": 26,
   "id": "a36ca4ba",
   "metadata": {
    "ExecuteTime": {
     "end_time": "2022-11-08T11:50:52.066759Z",
     "start_time": "2022-11-08T11:50:52.044350Z"
    }
   },
   "outputs": [
    {
     "data": {
      "text/html": [
       "<div>\n",
       "<style scoped>\n",
       "    .dataframe tbody tr th:only-of-type {\n",
       "        vertical-align: middle;\n",
       "    }\n",
       "\n",
       "    .dataframe tbody tr th {\n",
       "        vertical-align: top;\n",
       "    }\n",
       "\n",
       "    .dataframe thead th {\n",
       "        text-align: right;\n",
       "    }\n",
       "</style>\n",
       "<table border=\"1\" class=\"dataframe\">\n",
       "  <thead>\n",
       "    <tr style=\"text-align: right;\">\n",
       "      <th></th>\n",
       "      <th>rooms</th>\n",
       "      <th>sq_m</th>\n",
       "      <th>floor</th>\n",
       "      <th>floors_all</th>\n",
       "      <th>area</th>\n",
       "      <th>year</th>\n",
       "    </tr>\n",
       "  </thead>\n",
       "  <tbody>\n",
       "    <tr>\n",
       "      <th>0</th>\n",
       "      <td>2</td>\n",
       "      <td>76.0</td>\n",
       "      <td>8.0</td>\n",
       "      <td>19.0</td>\n",
       "      <td>Алмалинский</td>\n",
       "      <td>2012</td>\n",
       "    </tr>\n",
       "    <tr>\n",
       "      <th>1</th>\n",
       "      <td>2</td>\n",
       "      <td>40.0</td>\n",
       "      <td>2.0</td>\n",
       "      <td>2.0</td>\n",
       "      <td>Ташкентская28</td>\n",
       "      <td>1959</td>\n",
       "    </tr>\n",
       "    <tr>\n",
       "      <th>2</th>\n",
       "      <td>3</td>\n",
       "      <td>100.8</td>\n",
       "      <td>1.0</td>\n",
       "      <td>3.0</td>\n",
       "      <td>Медеуский</td>\n",
       "      <td>2018</td>\n",
       "    </tr>\n",
       "    <tr>\n",
       "      <th>3</th>\n",
       "      <td>2</td>\n",
       "      <td>70.0</td>\n",
       "      <td>14.0</td>\n",
       "      <td>17.0</td>\n",
       "      <td>Ауэзовский</td>\n",
       "      <td>2014</td>\n",
       "    </tr>\n",
       "    <tr>\n",
       "      <th>4</th>\n",
       "      <td>2</td>\n",
       "      <td>45.0</td>\n",
       "      <td>3.0</td>\n",
       "      <td>4.0</td>\n",
       "      <td>Бостандыкский</td>\n",
       "      <td>1969</td>\n",
       "    </tr>\n",
       "    <tr>\n",
       "      <th>...</th>\n",
       "      <td>...</td>\n",
       "      <td>...</td>\n",
       "      <td>...</td>\n",
       "      <td>...</td>\n",
       "      <td>...</td>\n",
       "      <td>...</td>\n",
       "    </tr>\n",
       "    <tr>\n",
       "      <th>11901</th>\n",
       "      <td>2</td>\n",
       "      <td>69.0</td>\n",
       "      <td>6.0</td>\n",
       "      <td>9.0</td>\n",
       "      <td>Алатауский</td>\n",
       "      <td>2011</td>\n",
       "    </tr>\n",
       "    <tr>\n",
       "      <th>11902</th>\n",
       "      <td>2</td>\n",
       "      <td>51.3</td>\n",
       "      <td>5.0</td>\n",
       "      <td>5.0</td>\n",
       "      <td>Ауэзовский</td>\n",
       "      <td>1995</td>\n",
       "    </tr>\n",
       "    <tr>\n",
       "      <th>11903</th>\n",
       "      <td>2</td>\n",
       "      <td>56.0</td>\n",
       "      <td>1.0</td>\n",
       "      <td>2.0</td>\n",
       "      <td>Алатауский</td>\n",
       "      <td>1992</td>\n",
       "    </tr>\n",
       "    <tr>\n",
       "      <th>11904</th>\n",
       "      <td>3</td>\n",
       "      <td>61.8</td>\n",
       "      <td>1.0</td>\n",
       "      <td>5.0</td>\n",
       "      <td>Бостандыкский</td>\n",
       "      <td>1969</td>\n",
       "    </tr>\n",
       "    <tr>\n",
       "      <th>11905</th>\n",
       "      <td>2</td>\n",
       "      <td>38.0</td>\n",
       "      <td>1.0</td>\n",
       "      <td>2.0</td>\n",
       "      <td>Турксибский</td>\n",
       "      <td>1956</td>\n",
       "    </tr>\n",
       "  </tbody>\n",
       "</table>\n",
       "<p>11906 rows × 6 columns</p>\n",
       "</div>"
      ],
      "text/plain": [
       "       rooms   sq_m  floor  floors_all           area  year\n",
       "0          2   76.0    8.0        19.0    Алмалинский  2012\n",
       "1          2   40.0    2.0         2.0  Ташкентская28  1959\n",
       "2          3  100.8    1.0         3.0      Медеуский  2018\n",
       "3          2   70.0   14.0        17.0     Ауэзовский  2014\n",
       "4          2   45.0    3.0         4.0  Бостандыкский  1969\n",
       "...      ...    ...    ...         ...            ...   ...\n",
       "11901      2   69.0    6.0         9.0     Алатауский  2011\n",
       "11902      2   51.3    5.0         5.0     Ауэзовский  1995\n",
       "11903      2   56.0    1.0         2.0     Алатауский  1992\n",
       "11904      3   61.8    1.0         5.0  Бостандыкский  1969\n",
       "11905      2   38.0    1.0         2.0    Турксибский  1956\n",
       "\n",
       "[11906 rows x 6 columns]"
      ]
     },
     "execution_count": 26,
     "metadata": {},
     "output_type": "execute_result"
    }
   ],
   "source": [
    "cols = [a for a in df.columns if a not in ['price', 'urls']]\n",
    "df[cols]"
   ]
  },
  {
   "cell_type": "code",
   "execution_count": 45,
   "id": "6a3b382e",
   "metadata": {
    "ExecuteTime": {
     "end_time": "2022-11-08T11:55:20.857485Z",
     "start_time": "2022-11-08T11:55:20.841187Z"
    }
   },
   "outputs": [
    {
     "data": {
      "text/plain": [
       "array([[0., 1., 0., 0., 0., 0., 0., 0.]])"
      ]
     },
     "execution_count": 45,
     "metadata": {},
     "output_type": "execute_result"
    }
   ],
   "source": [
    "one_hot_enc.transform(pd.Series(df['area'].iloc[0])[:, None]).toarray()"
   ]
  },
  {
   "cell_type": "code",
   "execution_count": null,
   "id": "56f72671",
   "metadata": {
    "ExecuteTime": {
     "end_time": "2022-11-08T11:57:33.631538Z",
     "start_time": "2022-11-08T11:57:33.618755Z"
    }
   },
   "outputs": [],
   "source": []
  },
  {
   "cell_type": "code",
   "execution_count": 41,
   "id": "ab4a2124",
   "metadata": {
    "ExecuteTime": {
     "end_time": "2022-11-08T11:54:51.204973Z",
     "start_time": "2022-11-08T11:54:51.201452Z"
    }
   },
   "outputs": [
    {
     "data": {
      "text/plain": [
       "pandas.core.series.Series"
      ]
     },
     "execution_count": 41,
     "metadata": {},
     "output_type": "execute_result"
    }
   ],
   "source": [
    "type(df['area'])"
   ]
  },
  {
   "cell_type": "code",
   "execution_count": 42,
   "id": "f3d24962",
   "metadata": {
    "ExecuteTime": {
     "end_time": "2022-11-08T11:55:02.863043Z",
     "start_time": "2022-11-08T11:55:02.846566Z"
    }
   },
   "outputs": [
    {
     "data": {
      "text/plain": [
       "0    Алмалинский\n",
       "dtype: object"
      ]
     },
     "execution_count": 42,
     "metadata": {},
     "output_type": "execute_result"
    }
   ],
   "source": [
    "pd.Series(df['area'].iloc[0])"
   ]
  }
 ],
 "metadata": {
  "kernelspec": {
   "display_name": "Python 3",
   "language": "python",
   "name": "python3"
  },
  "language_info": {
   "codemirror_mode": {
    "name": "ipython",
    "version": 3
   },
   "file_extension": ".py",
   "mimetype": "text/x-python",
   "name": "python",
   "nbconvert_exporter": "python",
   "pygments_lexer": "ipython3",
   "version": "3.8.3"
  },
  "toc": {
   "base_numbering": 1,
   "nav_menu": {},
   "number_sections": true,
   "sideBar": true,
   "skip_h1_title": false,
   "title_cell": "Table of Contents",
   "title_sidebar": "Contents",
   "toc_cell": false,
   "toc_position": {},
   "toc_section_display": true,
   "toc_window_display": false
  },
  "varInspector": {
   "cols": {
    "lenName": 16,
    "lenType": 16,
    "lenVar": 40
   },
   "kernels_config": {
    "python": {
     "delete_cmd_postfix": "",
     "delete_cmd_prefix": "del ",
     "library": "var_list.py",
     "varRefreshCmd": "print(var_dic_list())"
    },
    "r": {
     "delete_cmd_postfix": ") ",
     "delete_cmd_prefix": "rm(",
     "library": "var_list.r",
     "varRefreshCmd": "cat(var_dic_list()) "
    }
   },
   "types_to_exclude": [
    "module",
    "function",
    "builtin_function_or_method",
    "instance",
    "_Feature"
   ],
   "window_display": false
  }
 },
 "nbformat": 4,
 "nbformat_minor": 5
}
