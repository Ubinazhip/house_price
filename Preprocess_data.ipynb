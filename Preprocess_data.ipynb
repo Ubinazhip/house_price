{
 "cells": [
  {
   "cell_type": "code",
   "execution_count": 1,
   "metadata": {
    "ExecuteTime": {
     "end_time": "2022-10-06T13:30:13.899030Z",
     "start_time": "2022-10-06T13:30:11.771235Z"
    }
   },
   "outputs": [],
   "source": [
    "import pandas as pd\n",
    "import matplotlib.pyplot as plt\n",
    "import seaborn as sns\n",
    "import warnings\n",
    "warnings.simplefilter(\"ignore\")\n",
    "%matplotlib inline\n",
    "\n",
    "sns.set(style=\"darkgrid\")\n",
    "    \n",
    "from preprocess import Preprocessing\n",
    "df = pd.read_excel(\"Data.xlsx\")"
   ]
  },
  {
   "cell_type": "code",
   "execution_count": 2,
   "metadata": {
    "ExecuteTime": {
     "end_time": "2022-10-06T13:30:14.129567Z",
     "start_time": "2022-10-06T13:30:14.119190Z"
    }
   },
   "outputs": [
    {
     "name": "stdout",
     "output_type": "stream",
     "text": [
      "<class 'pandas.core.frame.DataFrame'>\n",
      "RangeIndex: 11906 entries, 0 to 11905\n",
      "Data columns (total 8 columns):\n",
      " #   Column      Non-Null Count  Dtype  \n",
      "---  ------      --------------  -----  \n",
      " 0   urls        11906 non-null  object \n",
      " 1   rooms       11906 non-null  int64  \n",
      " 2   sq_m        11906 non-null  float64\n",
      " 3   floor       11709 non-null  float64\n",
      " 4   floors_all  11640 non-null  float64\n",
      " 5   area        11906 non-null  object \n",
      " 6   year        11906 non-null  object \n",
      " 7   price       11906 non-null  int64  \n",
      "dtypes: float64(3), int64(2), object(3)\n",
      "memory usage: 744.2+ KB\n"
     ]
    }
   ],
   "source": [
    "df.info()"
   ]
  },
  {
   "cell_type": "code",
   "execution_count": 3,
   "metadata": {
    "ExecuteTime": {
     "end_time": "2022-10-06T13:30:15.975353Z",
     "start_time": "2022-10-06T13:30:14.837767Z"
    }
   },
   "outputs": [],
   "source": [
    "from sklearn.model_selection import train_test_split\n",
    "df = pd.read_excel(\"Data.xlsx\")\n",
    "\n",
    "df = df.drop(columns=[\"urls\"])\n",
    "\n",
    "y = df[\"price\"]\n",
    "X = df.drop(columns=[\"price\"])\n",
    "\n",
    "X_train, X_test, y_train, y_test = train_test_split(X, y, test_size=0.1, random_state=42)\n",
    "\n"
   ]
  },
  {
   "cell_type": "markdown",
   "metadata": {},
   "source": [
    "# Preprocessing\n",
    "На данный момент я вижу 3 главные проблемы в датасете: <br>\n",
    "1) area имеет 267 уникальных классов, а не 8 (кол-во районов в Алмате), <br>\n",
    "2) В столбце year формата string,более того у некоторых объектов в year строка, которая не конвертируется в int(скорее всего пустые строки) <br>\n",
    "3) Пропуски в floors_all и в floor <br>\n"
   ]
  },
  {
   "cell_type": "markdown",
   "metadata": {},
   "source": [
    "## Problem 1 \n",
    "\n",
    "Мы видим, что area имеет 267 уникальных классов, хотя в Алмате всего 8 районов. Потому что в столбце area у некоторых объектов названия улицы, а не района. Это надо как-то исправлять. Я создам 9-ый класс для фичи area - 'Район9', куда будут входить все объекты с названием улиц в столбце area"
   ]
  },
  {
   "cell_type": "code",
   "execution_count": 4,
   "metadata": {
    "ExecuteTime": {
     "end_time": "2022-10-06T13:30:17.820923Z",
     "start_time": "2022-10-06T13:30:17.803495Z"
    }
   },
   "outputs": [
    {
     "data": {
      "text/plain": [
       "267"
      ]
     },
     "execution_count": 4,
     "metadata": {},
     "output_type": "execute_result"
    }
   ],
   "source": [
    "len(X_train.area.unique())"
   ]
  },
  {
   "cell_type": "code",
   "execution_count": 5,
   "metadata": {
    "ExecuteTime": {
     "end_time": "2022-10-06T13:30:18.449759Z",
     "start_time": "2022-10-06T13:30:18.432236Z"
    }
   },
   "outputs": [],
   "source": [
    "almaty_areas = ['Ауэзовский', 'Бостандыкский', 'Алмалинский', 'Алатауский', 'Медеуский', 'Наурызбайский', 'Турксибский', 'Жетысуский']\n",
    "X_train['area'] = X_train['area'].apply(lambda x: x if x in almaty_areas else 'Район9')"
   ]
  },
  {
   "cell_type": "code",
   "execution_count": 6,
   "metadata": {
    "ExecuteTime": {
     "end_time": "2022-10-06T13:30:19.002118Z",
     "start_time": "2022-10-06T13:30:18.997554Z"
    }
   },
   "outputs": [
    {
     "data": {
      "text/plain": [
       "Ауэзовский       2187\n",
       "Бостандыкский    1924\n",
       "Алмалинский      1405\n",
       "Алатауский       1112\n",
       "Медеуский         999\n",
       "Наурызбайский     981\n",
       "Турксибский       966\n",
       "Жетысуский        858\n",
       "Район9            283\n",
       "Name: area, dtype: int64"
      ]
     },
     "execution_count": 6,
     "metadata": {},
     "output_type": "execute_result"
    }
   ],
   "source": [
    "X_train['area'].value_counts()"
   ]
  },
  {
   "cell_type": "markdown",
   "metadata": {},
   "source": [
    "## Problem 2\n",
    "\n",
    "У некоторых объектов странные строки, которые не конвертируются в число"
   ]
  },
  {
   "cell_type": "code",
   "execution_count": 7,
   "metadata": {
    "ExecuteTime": {
     "end_time": "2022-10-06T13:30:20.325985Z",
     "start_time": "2022-10-06T13:30:20.319043Z"
    }
   },
   "outputs": [
    {
     "name": "stdout",
     "output_type": "stream",
     "text": [
      "Uppd, I have some probelms with conversion\n"
     ]
    }
   ],
   "source": [
    "try: \n",
    "    X_train['year'] = X_train['year'].astype(int)\n",
    "except ValueError as v:\n",
    "    print(f'Uppd, I have some probelms with conversion')\n"
   ]
  },
  {
   "cell_type": "markdown",
   "metadata": {},
   "source": [
    "Упс, ошибка значит у нас есть строки, которые нельзя превращать в int. Скорее всего это пустые строки. Проверим:"
   ]
  },
  {
   "cell_type": "code",
   "execution_count": 8,
   "metadata": {
    "ExecuteTime": {
     "end_time": "2022-10-06T13:30:23.466926Z",
     "start_time": "2022-10-06T13:30:22.411540Z"
    }
   },
   "outputs": [
    {
     "name": "stdout",
     "output_type": "stream",
     "text": [
      "7872-th element exception, string =     \n",
      "9883-th element exception, string =     \n",
      "3989-th element exception, string =     \n",
      "1190-th element exception, string =     \n",
      "3942-th element exception, string =     \n",
      "2510-th element exception, string =     \n",
      "6814-th element exception, string =     \n",
      "4921-th element exception, string =     \n",
      "6829-th element exception, string =     \n",
      "10614-th element exception, string =     \n",
      "9178-th element exception, string =     \n",
      "5554-th element exception, string =     \n",
      "7795-th element exception, string =     \n",
      "11409-th element exception, string =     \n",
      "8373-th element exception, string =     \n",
      "4168-th element exception, string =     \n",
      "8277-th element exception, string =     \n",
      "11897-th element exception, string =     \n",
      "2428-th element exception, string =     \n",
      "5588-th element exception, string =     \n",
      "количество строк, которые нельзя конвертировать в число = 20, это 0.187 % данных\n"
     ]
    }
   ],
   "source": [
    "empty_str_ind = []\n",
    "for i in X_train.index.values:\n",
    "    try: \n",
    "        X_train['year'][i] = int(X_train['year'][i])\n",
    "    except:\n",
    "        print(f'{i}-th element exception, string = {X_train.year[i]}')\n",
    "        empty_str_ind.append(i)\n",
    "\n",
    "cnt = len(empty_str_ind) \n",
    "print(f'количество строк, которые нельзя конвертировать в число = {cnt}, это {100 * cnt/X_train.shape[0]:.3f} % данных')"
   ]
  },
  {
   "cell_type": "markdown",
   "metadata": {
    "ExecuteTime": {
     "end_time": "2022-10-05T15:43:31.367575Z",
     "start_time": "2022-10-05T15:43:31.334603Z"
    }
   },
   "source": [
    "Да, был прав, это пустые строки и их нельзя конвертировать в int. Впрниципе их очень мало - всего 20. Возможно имеет смысл просто убрать их в training. В тест сете мы будем просто заменять их медианами year по району в трейнинг сет"
   ]
  },
  {
   "cell_type": "code",
   "execution_count": 9,
   "metadata": {
    "ExecuteTime": {
     "end_time": "2022-10-06T13:30:28.679787Z",
     "start_time": "2022-10-06T13:30:28.653341Z"
    }
   },
   "outputs": [
    {
     "data": {
      "text/plain": [
       "{'Алатауский': 2015,\n",
       " 'Алмалинский': 1983,\n",
       " 'Ауэзовский': 1986,\n",
       " 'Бостандыкский': 1989,\n",
       " 'Жетысуский': 1990,\n",
       " 'Медеуский': 2007,\n",
       " 'Наурызбайский': 2019,\n",
       " 'Район9': 2014,\n",
       " 'Турксибский': 1991}"
      ]
     },
     "execution_count": 9,
     "metadata": {},
     "output_type": "execute_result"
    }
   ],
   "source": [
    "X_train.drop(empty_str_ind, inplace = True)\n",
    "y_train.drop(empty_str_ind, inplace = True)\n",
    "X_train['year'] = X_train['year'].astype(int)\n",
    "\n",
    "X_train.reset_index(drop=True, inplace=True)\n",
    "y_train.reset_index(drop=True, inplace=True)\n",
    "#X_val.reset_index(drop=True, inplace=True)\n",
    "#X_test.reset_index(drop=True, inplace=True)\n",
    "\n",
    "X_train.groupby(['area'])['year'].median().to_dict()"
   ]
  },
  {
   "cell_type": "markdown",
   "metadata": {
    "ExecuteTime": {
     "end_time": "2022-10-05T18:27:13.960035Z",
     "start_time": "2022-10-05T18:27:13.947055Z"
    }
   },
   "source": [
    "## Пропуски в floors_all и в floor \n",
    "\n",
    "В общей сложности в training set у нас 235 пропусков либо у floor либо у floors_all. Как их будем заполнять?"
   ]
  },
  {
   "cell_type": "code",
   "execution_count": 10,
   "metadata": {
    "ExecuteTime": {
     "end_time": "2022-10-06T13:30:31.069301Z",
     "start_time": "2022-10-06T13:30:31.053395Z"
    }
   },
   "outputs": [
    {
     "data": {
      "text/plain": [
       "rooms           0\n",
       "sq_m            0\n",
       "floor         172\n",
       "floors_all    235\n",
       "area            0\n",
       "year            0\n",
       "dtype: int64"
      ]
     },
     "execution_count": 10,
     "metadata": {},
     "output_type": "execute_result"
    }
   ],
   "source": [
    "X_train.isna().sum()"
   ]
  },
  {
   "cell_type": "code",
   "execution_count": 11,
   "metadata": {
    "ExecuteTime": {
     "end_time": "2022-10-06T13:30:31.884272Z",
     "start_time": "2022-10-06T13:30:31.871269Z"
    }
   },
   "outputs": [
    {
     "data": {
      "text/plain": [
       "(235, 6)"
      ]
     },
     "execution_count": 11,
     "metadata": {},
     "output_type": "execute_result"
    }
   ],
   "source": [
    "null_data = X_train[X_train.isnull().any(axis=1)]\n",
    "null_data.shape"
   ]
  },
  {
   "cell_type": "markdown",
   "metadata": {},
   "source": [
    "По боксплоту внизу видим, что есть какая-никая зависимость года постройки и количество этажов - раньше строили больше маленьких домов - [1-5] этажных, сейчас больше высоток. Этот факт мы можем использовать чтобы заполнить floors_all - берем медианну по year_div([-1990] years, [1991-2010], [2010-2020]). Floors будем заполнять как \n",
    "floors_all //2 - что-то средне, думаю цены на среднех этажах не отличаются."
   ]
  },
  {
   "cell_type": "code",
   "execution_count": 12,
   "metadata": {
    "ExecuteTime": {
     "end_time": "2022-10-06T13:30:36.444393Z",
     "start_time": "2022-10-06T13:30:34.055721Z"
    }
   },
   "outputs": [
    {
     "data": {
      "text/plain": [
       "[Text(0.5, 1.0, 'floors_all vs year')]"
      ]
     },
     "execution_count": 12,
     "metadata": {},
     "output_type": "execute_result"
    },
    {
     "data": {
      "image/png": "[encoded data removed]",
      "text/plain": [
       "<Figure size 864x576 with 1 Axes>"
      ]
     },
     "metadata": {},
     "output_type": "display_data"
    }
   ],
   "source": [
    "sns.set(rc={'figure.figsize':(12,8)})\n",
    "\n",
    "\n",
    "year_div = []\n",
    "for i in range(0, X_train.shape[0]):\n",
    "    if X_train.iloc[i]['year'] <= 1990: \n",
    "        year_div.append('[ - 1990]')\n",
    "    elif X_train.iloc[i]['year'] > 1990 and X_train.iloc[i]['year'] <= 2010:    \n",
    "        year_div.append('(1990 - 2010]')\n",
    "    else:    \n",
    "        year_div.append('[2010 - )')\n",
    "\n",
    "X_train['year_div'] = year_div\n",
    "sns.boxplot(data=X_train, x='floors_all', y='year_div').set(title='floors_all vs year')"
   ]
  },
  {
   "cell_type": "markdown",
   "metadata": {},
   "source": [
    "Получается запоняем след образом: <br>\n",
    "\n",
    "1 случае(floor и floors_all NaN): floors_all - медианна по year_div, floor = floors_all//2 <br>\n",
    "2 случае(только floors_all NaN): floors_all = floors*2 <br>\n",
    "3 случае(только floor NaN): floors = floors_all // 2<br>"
   ]
  },
  {
   "cell_type": "code",
   "execution_count": 13,
   "metadata": {
    "ExecuteTime": {
     "end_time": "2022-10-06T13:30:39.561902Z",
     "start_time": "2022-10-06T13:30:39.557286Z"
    }
   },
   "outputs": [],
   "source": [
    "year_median_floor = X_train.groupby('year_div')['floors_all'].median().to_dict()\n",
    "X_train.drop(columns=['year_div'], inplace=True)"
   ]
  },
  {
   "cell_type": "code",
   "execution_count": 14,
   "metadata": {
    "ExecuteTime": {
     "end_time": "2022-10-06T13:30:40.203514Z",
     "start_time": "2022-10-06T13:30:40.200316Z"
    }
   },
   "outputs": [
    {
     "data": {
      "text/plain": [
       "{'(1990 - 2010]': 9.0, '[ - 1990]': 5.0, '[2010 - )': 10.0}"
      ]
     },
     "execution_count": 14,
     "metadata": {},
     "output_type": "execute_result"
    }
   ],
   "source": [
    "year_median_floor"
   ]
  },
  {
   "cell_type": "code",
   "execution_count": 15,
   "metadata": {
    "ExecuteTime": {
     "end_time": "2022-10-06T13:30:44.745179Z",
     "start_time": "2022-10-06T13:30:41.242703Z"
    }
   },
   "outputs": [],
   "source": [
    "import math\n",
    "def find_floor_all(row):\n",
    "    if row['year'] <= 1990: \n",
    "        floors_all = year_median_floor['[ - 1990]']\n",
    "    elif 1990 < row['year'] <= 2010:    \n",
    "        floors_all = year_median_floor['(1990 - 2010]']\n",
    "    else:    \n",
    "        floors_all = year_median_floor['[2010 - )']\n",
    "    return floors_all\n",
    "\n",
    "indices = []\n",
    "for i in range(0, X_train.shape[0]):\n",
    "    if math.isnan(X_train.iloc[i]['floors_all']) and math.isnan(X_train.iloc[i]['floor']):\n",
    "        indices.append(i)\n",
    "        X_train['floors_all'].iloc[i] = find_floor_all(X_train.iloc[i])\n",
    "        X_train['floor'].iloc[i] = X_train['floors_all'].iloc[i] // 2 \n",
    "    elif math.isnan(X_train.iloc[i]['floors_all']) and not math.isnan(X_train.iloc[i]['floor']):\n",
    "        indices.append(i)\n",
    "        X_train['floors_all'].iloc[i] = 2 * X_train['floor'].iloc[i]\n",
    "    elif math.isnan(X_train.iloc[i]['floor']) and not math.isnan(X_train.iloc[i]['floors_all']):\n",
    "        indices.append(i)\n",
    "        if X_train['floors_all'].iloc[i] == 1:\n",
    "            X_train['floors'].iloc[i] = 1\n",
    "        else:\n",
    "            X_train['floor'].iloc[i] = X_train['floors_all'].iloc[i] // 2\n",
    "\n"
   ]
  },
  {
   "cell_type": "code",
   "execution_count": null,
   "metadata": {},
   "outputs": [],
   "source": []
  },
  {
   "cell_type": "markdown",
   "metadata": {},
   "source": [
    "# One hot Encoder\n",
    "\n",
    "У нас есть категориальная фича area, и мы будем использовать one_hot_encoder для кодирования. Есть вариант и target mean encoding, но так как у нас колmь-во классов не такой уж и большой,будем использовать one_hot_encoder"
   ]
  },
  {
   "cell_type": "code",
   "execution_count": 16,
   "metadata": {
    "ExecuteTime": {
     "end_time": "2022-10-06T13:30:48.143123Z",
     "start_time": "2022-10-06T13:30:48.136811Z"
    }
   },
   "outputs": [],
   "source": [
    "from sklearn.preprocessing import OneHotEncoder"
   ]
  },
  {
   "cell_type": "code",
   "execution_count": 17,
   "metadata": {
    "ExecuteTime": {
     "end_time": "2022-10-06T13:30:48.814317Z",
     "start_time": "2022-10-06T13:30:48.812466Z"
    }
   },
   "outputs": [],
   "source": [
    "one_hot = OneHotEncoder(drop='first')"
   ]
  },
  {
   "cell_type": "code",
   "execution_count": 18,
   "metadata": {
    "ExecuteTime": {
     "end_time": "2022-10-06T13:30:49.670749Z",
     "start_time": "2022-10-06T13:30:49.658733Z"
    }
   },
   "outputs": [
    {
     "data": {
      "text/plain": [
       "OneHotEncoder(drop='first')"
      ]
     },
     "execution_count": 18,
     "metadata": {},
     "output_type": "execute_result"
    }
   ],
   "source": [
    "one_hot.fit(X_train['area'][:,None])#.toarray()#.shape#.values()"
   ]
  },
  {
   "cell_type": "code",
   "execution_count": 19,
   "metadata": {
    "ExecuteTime": {
     "end_time": "2022-10-06T13:30:50.550409Z",
     "start_time": "2022-10-06T13:30:50.523348Z"
    }
   },
   "outputs": [],
   "source": [
    "arr = one_hot.transform(X_train['area'][:,None]).toarray()\n",
    "df_one = pd.DataFrame(arr, columns = ['area1','area2','area3', 'area4','area5','area6', 'area7', 'area8'])\n",
    "X_train.drop(columns=['area'], inplace=True)\n",
    "X_train = pd.concat([X_train, df_one], axis=1)"
   ]
  },
  {
   "cell_type": "code",
   "execution_count": 20,
   "metadata": {
    "ExecuteTime": {
     "end_time": "2022-10-06T13:30:51.439741Z",
     "start_time": "2022-10-06T13:30:51.419031Z"
    }
   },
   "outputs": [
    {
     "data": {
      "text/html": [
       "<div>\n",
       "<style scoped>\n",
       "    .dataframe tbody tr th:only-of-type {\n",
       "        vertical-align: middle;\n",
       "    }\n",
       "\n",
       "    .dataframe tbody tr th {\n",
       "        vertical-align: top;\n",
       "    }\n",
       "\n",
       "    .dataframe thead th {\n",
       "        text-align: right;\n",
       "    }\n",
       "</style>\n",
       "<table border=\"1\" class=\"dataframe\">\n",
       "  <thead>\n",
       "    <tr style=\"text-align: right;\">\n",
       "      <th></th>\n",
       "      <th>rooms</th>\n",
       "      <th>sq_m</th>\n",
       "      <th>floor</th>\n",
       "      <th>floors_all</th>\n",
       "      <th>year</th>\n",
       "      <th>area1</th>\n",
       "      <th>area2</th>\n",
       "      <th>area3</th>\n",
       "      <th>area4</th>\n",
       "      <th>area5</th>\n",
       "      <th>area6</th>\n",
       "      <th>area7</th>\n",
       "      <th>area8</th>\n",
       "    </tr>\n",
       "  </thead>\n",
       "  <tbody>\n",
       "    <tr>\n",
       "      <th>0</th>\n",
       "      <td>3</td>\n",
       "      <td>78.0</td>\n",
       "      <td>5.0</td>\n",
       "      <td>5.0</td>\n",
       "      <td>2021</td>\n",
       "      <td>0.0</td>\n",
       "      <td>0.0</td>\n",
       "      <td>0.0</td>\n",
       "      <td>0.0</td>\n",
       "      <td>0.0</td>\n",
       "      <td>1.0</td>\n",
       "      <td>0.0</td>\n",
       "      <td>0.0</td>\n",
       "    </tr>\n",
       "    <tr>\n",
       "      <th>1</th>\n",
       "      <td>2</td>\n",
       "      <td>67.0</td>\n",
       "      <td>3.0</td>\n",
       "      <td>6.0</td>\n",
       "      <td>2009</td>\n",
       "      <td>0.0</td>\n",
       "      <td>0.0</td>\n",
       "      <td>0.0</td>\n",
       "      <td>1.0</td>\n",
       "      <td>0.0</td>\n",
       "      <td>0.0</td>\n",
       "      <td>0.0</td>\n",
       "      <td>0.0</td>\n",
       "    </tr>\n",
       "    <tr>\n",
       "      <th>2</th>\n",
       "      <td>1</td>\n",
       "      <td>15.0</td>\n",
       "      <td>4.0</td>\n",
       "      <td>5.0</td>\n",
       "      <td>1984</td>\n",
       "      <td>1.0</td>\n",
       "      <td>0.0</td>\n",
       "      <td>0.0</td>\n",
       "      <td>0.0</td>\n",
       "      <td>0.0</td>\n",
       "      <td>0.0</td>\n",
       "      <td>0.0</td>\n",
       "      <td>0.0</td>\n",
       "    </tr>\n",
       "    <tr>\n",
       "      <th>3</th>\n",
       "      <td>3</td>\n",
       "      <td>75.0</td>\n",
       "      <td>8.0</td>\n",
       "      <td>9.0</td>\n",
       "      <td>2020</td>\n",
       "      <td>0.0</td>\n",
       "      <td>0.0</td>\n",
       "      <td>0.0</td>\n",
       "      <td>0.0</td>\n",
       "      <td>0.0</td>\n",
       "      <td>1.0</td>\n",
       "      <td>0.0</td>\n",
       "      <td>0.0</td>\n",
       "    </tr>\n",
       "    <tr>\n",
       "      <th>4</th>\n",
       "      <td>2</td>\n",
       "      <td>45.0</td>\n",
       "      <td>4.0</td>\n",
       "      <td>4.0</td>\n",
       "      <td>1967</td>\n",
       "      <td>0.0</td>\n",
       "      <td>1.0</td>\n",
       "      <td>0.0</td>\n",
       "      <td>0.0</td>\n",
       "      <td>0.0</td>\n",
       "      <td>0.0</td>\n",
       "      <td>0.0</td>\n",
       "      <td>0.0</td>\n",
       "    </tr>\n",
       "    <tr>\n",
       "      <th>...</th>\n",
       "      <td>...</td>\n",
       "      <td>...</td>\n",
       "      <td>...</td>\n",
       "      <td>...</td>\n",
       "      <td>...</td>\n",
       "      <td>...</td>\n",
       "      <td>...</td>\n",
       "      <td>...</td>\n",
       "      <td>...</td>\n",
       "      <td>...</td>\n",
       "      <td>...</td>\n",
       "      <td>...</td>\n",
       "      <td>...</td>\n",
       "    </tr>\n",
       "    <tr>\n",
       "      <th>10690</th>\n",
       "      <td>3</td>\n",
       "      <td>65.2</td>\n",
       "      <td>5.0</td>\n",
       "      <td>5.0</td>\n",
       "      <td>1993</td>\n",
       "      <td>0.0</td>\n",
       "      <td>1.0</td>\n",
       "      <td>0.0</td>\n",
       "      <td>0.0</td>\n",
       "      <td>0.0</td>\n",
       "      <td>0.0</td>\n",
       "      <td>0.0</td>\n",
       "      <td>0.0</td>\n",
       "    </tr>\n",
       "    <tr>\n",
       "      <th>10691</th>\n",
       "      <td>1</td>\n",
       "      <td>41.0</td>\n",
       "      <td>14.0</td>\n",
       "      <td>14.0</td>\n",
       "      <td>2017</td>\n",
       "      <td>0.0</td>\n",
       "      <td>0.0</td>\n",
       "      <td>0.0</td>\n",
       "      <td>0.0</td>\n",
       "      <td>0.0</td>\n",
       "      <td>0.0</td>\n",
       "      <td>0.0</td>\n",
       "      <td>0.0</td>\n",
       "    </tr>\n",
       "    <tr>\n",
       "      <th>10692</th>\n",
       "      <td>1</td>\n",
       "      <td>44.3</td>\n",
       "      <td>4.0</td>\n",
       "      <td>5.0</td>\n",
       "      <td>2017</td>\n",
       "      <td>0.0</td>\n",
       "      <td>0.0</td>\n",
       "      <td>0.0</td>\n",
       "      <td>0.0</td>\n",
       "      <td>0.0</td>\n",
       "      <td>0.0</td>\n",
       "      <td>0.0</td>\n",
       "      <td>0.0</td>\n",
       "    </tr>\n",
       "    <tr>\n",
       "      <th>10693</th>\n",
       "      <td>1</td>\n",
       "      <td>45.0</td>\n",
       "      <td>3.0</td>\n",
       "      <td>9.0</td>\n",
       "      <td>2010</td>\n",
       "      <td>0.0</td>\n",
       "      <td>0.0</td>\n",
       "      <td>0.0</td>\n",
       "      <td>0.0</td>\n",
       "      <td>0.0</td>\n",
       "      <td>0.0</td>\n",
       "      <td>0.0</td>\n",
       "      <td>0.0</td>\n",
       "    </tr>\n",
       "    <tr>\n",
       "      <th>10694</th>\n",
       "      <td>3</td>\n",
       "      <td>75.0</td>\n",
       "      <td>8.0</td>\n",
       "      <td>9.0</td>\n",
       "      <td>1992</td>\n",
       "      <td>0.0</td>\n",
       "      <td>1.0</td>\n",
       "      <td>0.0</td>\n",
       "      <td>0.0</td>\n",
       "      <td>0.0</td>\n",
       "      <td>0.0</td>\n",
       "      <td>0.0</td>\n",
       "      <td>0.0</td>\n",
       "    </tr>\n",
       "  </tbody>\n",
       "</table>\n",
       "<p>10695 rows × 13 columns</p>\n",
       "</div>"
      ],
      "text/plain": [
       "       rooms  sq_m  floor  floors_all  year  area1  area2  area3  area4  \\\n",
       "0          3  78.0    5.0         5.0  2021    0.0    0.0    0.0    0.0   \n",
       "1          2  67.0    3.0         6.0  2009    0.0    0.0    0.0    1.0   \n",
       "2          1  15.0    4.0         5.0  1984    1.0    0.0    0.0    0.0   \n",
       "3          3  75.0    8.0         9.0  2020    0.0    0.0    0.0    0.0   \n",
       "4          2  45.0    4.0         4.0  1967    0.0    1.0    0.0    0.0   \n",
       "...      ...   ...    ...         ...   ...    ...    ...    ...    ...   \n",
       "10690      3  65.2    5.0         5.0  1993    0.0    1.0    0.0    0.0   \n",
       "10691      1  41.0   14.0        14.0  2017    0.0    0.0    0.0    0.0   \n",
       "10692      1  44.3    4.0         5.0  2017    0.0    0.0    0.0    0.0   \n",
       "10693      1  45.0    3.0         9.0  2010    0.0    0.0    0.0    0.0   \n",
       "10694      3  75.0    8.0         9.0  1992    0.0    1.0    0.0    0.0   \n",
       "\n",
       "       area5  area6  area7  area8  \n",
       "0        0.0    1.0    0.0    0.0  \n",
       "1        0.0    0.0    0.0    0.0  \n",
       "2        0.0    0.0    0.0    0.0  \n",
       "3        0.0    1.0    0.0    0.0  \n",
       "4        0.0    0.0    0.0    0.0  \n",
       "...      ...    ...    ...    ...  \n",
       "10690    0.0    0.0    0.0    0.0  \n",
       "10691    0.0    0.0    0.0    0.0  \n",
       "10692    0.0    0.0    0.0    0.0  \n",
       "10693    0.0    0.0    0.0    0.0  \n",
       "10694    0.0    0.0    0.0    0.0  \n",
       "\n",
       "[10695 rows x 13 columns]"
      ]
     },
     "execution_count": 20,
     "metadata": {},
     "output_type": "execute_result"
    }
   ],
   "source": [
    "X_train"
   ]
  },
  {
   "cell_type": "markdown",
   "metadata": {},
   "source": [
    "# Normalize\n",
    "\n",
    "Так как у нас фичи очень разных range, нужно их нормализовать. мы будем делать: <br>\n",
    "\n",
    "(X- mean)/std. <br>\n",
    "\n",
    "\n",
    "Получается общий припросессинг выглядит так: <br>\n",
    "\n",
    "1) Streets_to_area - заменяем название улиц с \"Район9\" <br>\n",
    "2) year_to_int - - в трейнинг убираем объяекты с пустым year, в тесте заполнять мединанной year по району в трейнинг сэт <br>\n",
    "3) missing entries - заполняем пропуски по алгоритму, которую описали выше <br>\n",
    "4) one_hot_encoder - кодировать area с помощью one_hot_encoder <br>\n",
    "5) scaler - нормализовать данные<br>\n",
    "\n",
    "Все эти шаги есть в классе Preprocessing в файле preprocess.py"
   ]
  },
  {
   "cell_type": "code",
   "execution_count": 24,
   "metadata": {
    "ExecuteTime": {
     "end_time": "2022-10-06T13:31:54.807260Z",
     "start_time": "2022-10-06T13:31:48.524335Z"
    }
   },
   "outputs": [],
   "source": [
    "data = Preprocessing(file_name=\"Data.xlsx\", test_size=0.2, random_state=20)\n",
    "\n",
    "X_train, X_val, X_test= data.preprocess_data()"
   ]
  },
  {
   "cell_type": "code",
   "execution_count": 25,
   "metadata": {
    "ExecuteTime": {
     "end_time": "2022-10-06T13:31:58.762970Z",
     "start_time": "2022-10-06T13:31:58.750523Z"
    }
   },
   "outputs": [
    {
     "data": {
      "text/html": [
       "<div>\n",
       "<style scoped>\n",
       "    .dataframe tbody tr th:only-of-type {\n",
       "        vertical-align: middle;\n",
       "    }\n",
       "\n",
       "    .dataframe tbody tr th {\n",
       "        vertical-align: top;\n",
       "    }\n",
       "\n",
       "    .dataframe thead th {\n",
       "        text-align: right;\n",
       "    }\n",
       "</style>\n",
       "<table border=\"1\" class=\"dataframe\">\n",
       "  <thead>\n",
       "    <tr style=\"text-align: right;\">\n",
       "      <th></th>\n",
       "      <th>rooms</th>\n",
       "      <th>sq_m</th>\n",
       "      <th>floor</th>\n",
       "      <th>floors_all</th>\n",
       "      <th>year</th>\n",
       "      <th>price</th>\n",
       "      <th>area1</th>\n",
       "      <th>area2</th>\n",
       "      <th>area3</th>\n",
       "      <th>area4</th>\n",
       "      <th>area5</th>\n",
       "      <th>area6</th>\n",
       "      <th>area7</th>\n",
       "      <th>area8</th>\n",
       "    </tr>\n",
       "  </thead>\n",
       "  <tbody>\n",
       "    <tr>\n",
       "      <th>0</th>\n",
       "      <td>1.825058</td>\n",
       "      <td>0.466024</td>\n",
       "      <td>-0.126426</td>\n",
       "      <td>-0.586938</td>\n",
       "      <td>-0.513252</td>\n",
       "      <td>-0.067487</td>\n",
       "      <td>0</td>\n",
       "      <td>0</td>\n",
       "      <td>0</td>\n",
       "      <td>0</td>\n",
       "      <td>0</td>\n",
       "      <td>0</td>\n",
       "      <td>0</td>\n",
       "      <td>0</td>\n",
       "    </tr>\n",
       "    <tr>\n",
       "      <th>1</th>\n",
       "      <td>-1.182153</td>\n",
       "      <td>-0.487655</td>\n",
       "      <td>-0.421744</td>\n",
       "      <td>-0.586938</td>\n",
       "      <td>0.943118</td>\n",
       "      <td>-0.548449</td>\n",
       "      <td>0</td>\n",
       "      <td>0</td>\n",
       "      <td>0</td>\n",
       "      <td>0</td>\n",
       "      <td>0</td>\n",
       "      <td>0</td>\n",
       "      <td>0</td>\n",
       "      <td>0</td>\n",
       "    </tr>\n",
       "  </tbody>\n",
       "</table>\n",
       "</div>"
      ],
      "text/plain": [
       "      rooms      sq_m     floor  floors_all      year     price  area1  area2  \\\n",
       "0  1.825058  0.466024 -0.126426   -0.586938 -0.513252 -0.067487      0      0   \n",
       "1 -1.182153 -0.487655 -0.421744   -0.586938  0.943118 -0.548449      0      0   \n",
       "\n",
       "   area3  area4  area5  area6  area7  area8  \n",
       "0      0      0      0      0      0      0  \n",
       "1      0      0      0      0      0      0  "
      ]
     },
     "execution_count": 25,
     "metadata": {},
     "output_type": "execute_result"
    }
   ],
   "source": [
    "X_train.head(2)"
   ]
  },
  {
   "cell_type": "code",
   "execution_count": 26,
   "metadata": {
    "ExecuteTime": {
     "end_time": "2022-10-06T13:31:59.732897Z",
     "start_time": "2022-10-06T13:31:59.724388Z"
    }
   },
   "outputs": [
    {
     "data": {
      "text/html": [
       "<div>\n",
       "<style scoped>\n",
       "    .dataframe tbody tr th:only-of-type {\n",
       "        vertical-align: middle;\n",
       "    }\n",
       "\n",
       "    .dataframe tbody tr th {\n",
       "        vertical-align: top;\n",
       "    }\n",
       "\n",
       "    .dataframe thead th {\n",
       "        text-align: right;\n",
       "    }\n",
       "</style>\n",
       "<table border=\"1\" class=\"dataframe\">\n",
       "  <thead>\n",
       "    <tr style=\"text-align: right;\">\n",
       "      <th></th>\n",
       "      <th>rooms</th>\n",
       "      <th>sq_m</th>\n",
       "      <th>floor</th>\n",
       "      <th>floors_all</th>\n",
       "      <th>year</th>\n",
       "      <th>price</th>\n",
       "      <th>area1</th>\n",
       "      <th>area2</th>\n",
       "      <th>area3</th>\n",
       "      <th>area4</th>\n",
       "      <th>area5</th>\n",
       "      <th>area6</th>\n",
       "      <th>area7</th>\n",
       "      <th>area8</th>\n",
       "    </tr>\n",
       "  </thead>\n",
       "  <tbody>\n",
       "    <tr>\n",
       "      <th>0</th>\n",
       "      <td>-0.17975</td>\n",
       "      <td>-0.095284</td>\n",
       "      <td>-0.717061</td>\n",
       "      <td>1.016698</td>\n",
       "      <td>-0.319069</td>\n",
       "      <td>0.218489</td>\n",
       "      <td>0</td>\n",
       "      <td>0</td>\n",
       "      <td>1</td>\n",
       "      <td>0</td>\n",
       "      <td>0</td>\n",
       "      <td>0</td>\n",
       "      <td>0</td>\n",
       "      <td>0</td>\n",
       "    </tr>\n",
       "    <tr>\n",
       "      <th>1</th>\n",
       "      <td>-0.17975</td>\n",
       "      <td>-0.468582</td>\n",
       "      <td>-0.421744</td>\n",
       "      <td>-0.816029</td>\n",
       "      <td>-0.513252</td>\n",
       "      <td>-0.457456</td>\n",
       "      <td>0</td>\n",
       "      <td>1</td>\n",
       "      <td>0</td>\n",
       "      <td>0</td>\n",
       "      <td>0</td>\n",
       "      <td>0</td>\n",
       "      <td>0</td>\n",
       "      <td>0</td>\n",
       "    </tr>\n",
       "  </tbody>\n",
       "</table>\n",
       "</div>"
      ],
      "text/plain": [
       "     rooms      sq_m     floor  floors_all      year     price  area1  area2  \\\n",
       "0 -0.17975 -0.095284 -0.717061    1.016698 -0.319069  0.218489      0      0   \n",
       "1 -0.17975 -0.468582 -0.421744   -0.816029 -0.513252 -0.457456      0      1   \n",
       "\n",
       "   area3  area4  area5  area6  area7  area8  \n",
       "0      1      0      0      0      0      0  \n",
       "1      0      0      0      0      0      0  "
      ]
     },
     "execution_count": 26,
     "metadata": {},
     "output_type": "execute_result"
    }
   ],
   "source": [
    "X_test.head(2)"
   ]
  },
  {
   "cell_type": "code",
   "execution_count": 28,
   "metadata": {
    "ExecuteTime": {
     "end_time": "2022-10-06T13:32:07.950067Z",
     "start_time": "2022-10-06T13:32:07.946596Z"
    }
   },
   "outputs": [
    {
     "data": {
      "text/plain": [
       "((7601, 14), (1905, 14), (2382, 14))"
      ]
     },
     "execution_count": 28,
     "metadata": {},
     "output_type": "execute_result"
    }
   ],
   "source": [
    "X_train.shape, X_val.shape, X_test.shape"
   ]
  },
  {
   "cell_type": "markdown",
   "metadata": {},
   "source": [
    "# Data Analysis"
   ]
  },
  {
   "cell_type": "code",
   "execution_count": 29,
   "metadata": {
    "ExecuteTime": {
     "end_time": "2022-10-06T13:32:13.040831Z",
     "start_time": "2022-10-06T13:32:12.996857Z"
    }
   },
   "outputs": [],
   "source": [
    "X_train = pd.read_csv('./data/train.csv')\n",
    "y_train = X_train['price']\n",
    "X_train.drop(columns=['price'], inplace=True)"
   ]
  },
  {
   "cell_type": "markdown",
   "metadata": {},
   "source": [
    "## Pearson's Correlation of features with target \n",
    "\n",
    "Как и ожидали у sq_m и rooms большая корреляция с таргетом"
   ]
  },
  {
   "cell_type": "code",
   "execution_count": 30,
   "metadata": {
    "ExecuteTime": {
     "end_time": "2022-10-06T13:32:14.953601Z",
     "start_time": "2022-10-06T13:32:14.766392Z"
    }
   },
   "outputs": [
    {
     "data": {
      "image/png": "[encoded data removed]",
      "text/plain": [
       "<Figure size 1080x720 with 1 Axes>"
      ]
     },
     "metadata": {},
     "output_type": "display_data"
    }
   ],
   "source": [
    "numeric_features = ['rooms', 'sq_m', 'floor', 'floors_all', 'year']\n",
    "correlations = X_train[numeric_features].corrwith(y_train).sort_values(ascending=False)\n",
    "\n",
    "\n",
    "plot = sns.barplot(y=correlations.index, x=correlations)\n",
    "plot.figure.set_size_inches(15, 10)\n"
   ]
  },
  {
   "cell_type": "code",
   "execution_count": 31,
   "metadata": {
    "ExecuteTime": {
     "end_time": "2022-10-06T13:32:19.194552Z",
     "start_time": "2022-10-06T13:32:18.422455Z"
    }
   },
   "outputs": [
    {
     "data": {
      "image/png": "[encoded data removed]",
      "text/plain": [
       "<Figure size 1152x360 with 4 Axes>"
      ]
     },
     "metadata": {},
     "output_type": "display_data"
    }
   ],
   "source": [
    "fig, axs = plt.subplots(figsize=(16, 5), ncols=4)\n",
    "for i, feature in enumerate([\"rooms\", \"sq_m\", \"floor\", \"year\"]):\n",
    "    axs[i].scatter(X_train[feature], y_train, alpha=0.2)\n",
    "    axs[i].set_xlabel(feature)\n",
    "    axs[i].set_ylabel(\"Price\")\n",
    "plt.tight_layout()\n",
    "\n"
   ]
  },
  {
   "cell_type": "code",
   "execution_count": 32,
   "metadata": {
    "ExecuteTime": {
     "end_time": "2022-10-06T13:32:21.668267Z",
     "start_time": "2022-10-06T13:32:21.300275Z"
    }
   },
   "outputs": [
    {
     "data": {
      "text/plain": [
       "<matplotlib.axes._subplots.AxesSubplot at 0x7f8470523ca0>"
      ]
     },
     "execution_count": 32,
     "metadata": {},
     "output_type": "execute_result"
    },
    {
     "data": {
      "image/png": "[encoded data removed]",
      "text/plain": [
       "<Figure size 864x576 with 1 Axes>"
      ]
     },
     "metadata": {},
     "output_type": "display_data"
    }
   ],
   "source": [
    "sns.set(rc={'figure.figsize':(12,8)})\n",
    "sns.distplot(y_train)"
   ]
  },
  {
   "cell_type": "markdown",
   "metadata": {},
   "source": [
    "# Simple Linear model with L2 Regularization"
   ]
  },
  {
   "cell_type": "code",
   "execution_count": 17,
   "metadata": {
    "ExecuteTime": {
     "end_time": "2022-10-06T13:34:20.756401Z",
     "start_time": "2022-10-06T13:34:13.718298Z"
    }
   },
   "outputs": [
    {
     "name": "stdout",
     "output_type": "stream",
     "text": [
      "alpha = 0.010, val rmse: 18639073.24, train_mse = 21517282.28\n",
      "alpha = 0.013, val rmse: 18639073.57, train_mse = 21517282.28\n",
      "alpha = 0.018, val rmse: 18639074.00, train_mse = 21517282.28\n",
      "alpha = 0.023, val rmse: 18639074.58, train_mse = 21517282.29\n",
      "alpha = 0.031, val rmse: 18639075.35, train_mse = 21517282.30\n",
      "alpha = 0.041, val rmse: 18639076.38, train_mse = 21517282.31\n",
      "alpha = 0.054, val rmse: 18639077.74, train_mse = 21517282.34\n",
      "alpha = 0.072, val rmse: 18639079.56, train_mse = 21517282.40\n",
      "alpha = 0.095, val rmse: 18639082.00, train_mse = 21517282.49\n",
      "alpha = 0.126, val rmse: 18639085.27, train_mse = 21517282.66\n",
      "alpha = 0.168, val rmse: 18639089.66, train_mse = 21517282.95\n",
      "alpha = 0.222, val rmse: 18639095.60, train_mse = 21517283.45\n",
      "alpha = 0.295, val rmse: 18639103.68, train_mse = 21517284.35\n",
      "alpha = 0.391, val rmse: 18639114.73, train_mse = 21517285.91\n",
      "alpha = 0.518, val rmse: 18639129.99, train_mse = 21517288.65\n",
      "alpha = 0.687, val rmse: 18639151.28, train_mse = 21517293.43\n",
      "alpha = 0.910, val rmse: 18639181.33, train_mse = 21517301.79\n",
      "alpha = 1.207, val rmse: 18639224.35, train_mse = 21517316.36\n",
      "alpha = 1.600, val rmse: 18639286.81, train_mse = 21517341.66\n",
      "alpha = 2.121, val rmse: 18639378.92, train_mse = 21517385.49\n",
      "alpha = 2.812, val rmse: 18639516.72, train_mse = 21517461.01\n",
      "alpha = 3.728, val rmse: 18639725.58, train_mse = 21517590.37\n",
      "alpha = 4.942, val rmse: 18640045.41, train_mse = 21517810.22\n",
      "alpha = 6.551, val rmse: 18640538.30, train_mse = 21518180.10\n",
      "alpha = 8.685, val rmse: 18641299.01, train_mse = 21518794.50\n",
      "alpha = 11.514, val rmse: 18642468.08, train_mse = 21519798.90\n",
      "alpha = 15.264, val rmse: 18644246.05, train_mse = 21521409.10\n",
      "alpha = 20.236, val rmse: 18646904.70, train_mse = 21523931.06\n",
      "alpha = 26.827, val rmse: 18650789.74, train_mse = 21527776.46\n",
      "alpha = 35.565, val rmse: 18656310.12, train_mse = 21533469.55\n",
      "alpha = 47.149, val rmse: 18663917.55, train_mse = 21541647.12\n",
      "alpha = 62.506, val rmse: 18674098.70, train_mse = 21553068.58\n",
      "alpha = 82.864, val rmse: 18687425.43, train_mse = 21568672.57\n",
      "alpha = 109.854, val rmse: 18704720.67, train_mse = 21589726.39\n",
      "alpha = 145.635, val rmse: 18727378.87, train_mse = 21618096.39\n",
      "alpha = 193.070, val rmse: 18757824.53, train_mse = 21656616.33\n",
      "alpha = 255.955, val rmse: 18800014.69, train_mse = 21709459.75\n",
      "alpha = 339.322, val rmse: 18859813.17, train_mse = 21782357.40\n",
      "alpha = 449.843, val rmse: 18945006.03, train_mse = 21882469.28\n",
      "alpha = 596.362, val rmse: 19064728.86, train_mse = 22017759.03\n",
      "alpha = 790.604, val rmse: 19228217.99, train_mse = 22195879.76\n",
      "alpha = 1048.113, val rmse: 19443152.43, train_mse = 22422883.67\n",
      "alpha = 1389.495, val rmse: 19714342.10, train_mse = 22702409.15\n",
      "alpha = 1842.070, val rmse: 20043786.90, train_mse = 23036103.59\n",
      "alpha = 2442.053, val rmse: 20432729.42, train_mse = 23425624.27\n",
      "alpha = 3237.458, val rmse: 20885184.88, train_mse = 23875647.96\n",
      "alpha = 4291.934, val rmse: 21411151.86, train_mse = 24396377.05\n",
      "alpha = 5689.866, val rmse: 22027159.61, train_mse = 25003676.73\n",
      "alpha = 7543.120, val rmse: 22752527.32, train_mse = 25715582.37\n",
      "alpha = 10000.000, val rmse: 23601645.50, train_mse = 26545449.88\n"
     ]
    }
   ],
   "source": [
    "from sklearn.linear_model import Ridge\n",
    "from sklearn.metrics import mean_squared_error\n",
    "import pickle\n",
    "import numpy as np\n",
    "import pandas as pd\n",
    "target_scaler = pickle.load(open('./utils/target_scaler1.pkl','rb'))\n",
    "\n",
    "#data = Preprocessing(file_name=\"Data.xlsx\", test_size=0.2, random_state=20)#val size = 0.16\n",
    "\n",
    "alphas = np.logspace(-2, 4, 50)\n",
    "\n",
    "#X_train, X_val, X_test= data.preprocess_data()\n",
    "X_train = pd.read_csv('./data/train_norm1.csv')\n",
    "X_val = pd.read_csv('./data/val_norm1.csv')\n",
    "X_test = pd.read_csv('./data/test_norm.csv')\n",
    "\n",
    "y_train = X_train['price']\n",
    "X_train.drop(columns=['price'], inplace=True)\n",
    "y_val = X_val['price']\n",
    "X_val.drop(columns=['price'], inplace=True)\n",
    "y_test = X_test['price']\n",
    "X_test.drop(columns=['price'], inplace=True)\n",
    "\n",
    "best_mean_square = float('inf')\n",
    "best_alpha = 0\n",
    "rmse_list = []\n",
    "rmse_train_list = []\n",
    "for alpha in alphas:\n",
    "    model = Ridge(alpha=alpha)\n",
    "    model.fit(X_train, y_train)\n",
    "    y_pred = model.predict(X_val)\n",
    "    y_train_pred = model.predict(X_train)\n",
    "    rmse = mean_squared_error(target_scaler.inverse_transform(y_val[:,None]), target_scaler.inverse_transform(y_pred[:,None]), squared=False)\n",
    "    rmse_train = mean_squared_error(target_scaler.inverse_transform(y_train[:,None]), target_scaler.inverse_transform(y_train_pred[:,None]), squared=False)\n",
    "    print(f'alpha = {alpha:.3f}, val rmse: {rmse:.2f}, train_mse = {rmse_train:.2f}')\n",
    "    rmse_list.append(rmse)\n",
    "    rmse_train_list.append(rmse_train)\n",
    "    if rmse < best_mean_square:\n",
    "        best_alpha = alpha\n",
    "        best_mean_square = rmse\n",
    " "
   ]
  },
  {
   "cell_type": "code",
   "execution_count": 18,
   "metadata": {
    "ExecuteTime": {
     "end_time": "2022-10-06T13:34:25.470765Z",
     "start_time": "2022-10-06T13:34:25.461010Z"
    }
   },
   "outputs": [
    {
     "name": "stdout",
     "output_type": "stream",
     "text": [
      "best_alpha: 0.01, with val rmse = 18639073.24\n"
     ]
    }
   ],
   "source": [
    "print(f'best_alpha: {best_alpha}, with val rmse = {best_mean_square:.2f}')"
   ]
  },
  {
   "cell_type": "code",
   "execution_count": 19,
   "metadata": {
    "ExecuteTime": {
     "end_time": "2022-10-06T13:34:27.789679Z",
     "start_time": "2022-10-06T13:34:27.052711Z"
    }
   },
   "outputs": [
    {
     "data": {
      "text/plain": [
       "Text(0, 0.5, 'Rmse')"
      ]
     },
     "execution_count": 19,
     "metadata": {},
     "output_type": "execute_result"
    },
    {
     "data": {
      "image/png": "[encoded data removed]",
      "text/plain": [
       "<Figure size 432x288 with 1 Axes>"
      ]
     },
     "metadata": {
      "needs_background": "light"
     },
     "output_type": "display_data"
    }
   ],
   "source": [
    "import matplotlib.pyplot as plt\n",
    "plt.plot(alphas, rmse_list)\n",
    "plt.xscale(\"log\")\n",
    "plt.xlabel(\"alpha\")\n",
    "plt.ylabel(\"Rmse\")"
   ]
  },
  {
   "cell_type": "code",
   "execution_count": 20,
   "metadata": {
    "ExecuteTime": {
     "end_time": "2022-10-06T13:34:30.135926Z",
     "start_time": "2022-10-06T13:34:30.092242Z"
    }
   },
   "outputs": [
    {
     "name": "stdout",
     "output_type": "stream",
     "text": [
      "Train RMSE = 21517282.28\n",
      "Val RMSE = 18639073.24\n",
      "Test RMSE = 18603210.51\n"
     ]
    }
   ],
   "source": [
    "model = Ridge(alpha=best_alpha)\n",
    "model.fit(X_train, y_train)\n",
    "y_pred = model.predict(X_test)\n",
    "y_train_pred = model.predict(X_train)\n",
    "y_val_pred = model.predict(X_val)\n",
    "       \n",
    "print(\"Train RMSE = %.2f\" % mean_squared_error(target_scaler.inverse_transform(y_train[:,None]), target_scaler.inverse_transform(y_train_pred[:,None]), squared=False))\n",
    "print(\"Val RMSE = %.2f\" % mean_squared_error(target_scaler.inverse_transform(y_val[:,None]), target_scaler.inverse_transform(y_val_pred[:,None]), squared=False))\n",
    "print(\"Test RMSE = %.2f\" % mean_squared_error(target_scaler.inverse_transform(y_test[:,None]), target_scaler.inverse_transform(y_pred[:,None]), squared=False))"
   ]
  },
  {
   "cell_type": "markdown",
   "metadata": {},
   "source": [
    "### So, let's say that 18.6million tenge of rmse in test set is our baseline"
   ]
  },
  {
   "cell_type": "code",
   "execution_count": 42,
   "metadata": {
    "ExecuteTime": {
     "end_time": "2022-10-06T13:35:38.373077Z",
     "start_time": "2022-10-06T13:35:38.365170Z"
    }
   },
   "outputs": [],
   "source": [
    "#pickle.dump(model, open('./utils/ridge_model.pkl', 'wb'))"
   ]
  },
  {
   "cell_type": "code",
   "execution_count": null,
   "metadata": {},
   "outputs": [],
   "source": []
  },
  {
   "cell_type": "code",
   "execution_count": 3,
   "metadata": {},
   "outputs": [],
   "source": [
    "#from preprocess import Preprocessing\n",
    "#import pandas as pd\n",
    "#data = Preprocessing(file_name=\"Data.xlsx\", test_size=0.1, random_state=30, i = 0)\n",
    "\n",
    "#X_train, X_val, X_test= data.preprocess_data()"
   ]
  },
  {
   "cell_type": "code",
   "execution_count": 82,
   "metadata": {},
   "outputs": [],
   "source": [
    "#X_train.shape, X_val.shape, X_test.shape"
   ]
  },
  {
   "cell_type": "code",
   "execution_count": null,
   "metadata": {},
   "outputs": [],
   "source": []
  },
  {
   "cell_type": "code",
   "execution_count": 7,
   "metadata": {},
   "outputs": [
    {
     "data": {
      "text/plain": [
       "0.22518281919811717"
      ]
     },
     "execution_count": 7,
     "metadata": {},
     "output_type": "execute_result"
    }
   ],
   "source": [
    "#X_val.shape[0]/(X_train.shape[0] + X_val.shape[0] + X_test.shape[0])"
   ]
  },
  {
   "cell_type": "code",
   "execution_count": null,
   "metadata": {},
   "outputs": [],
   "source": []
  },
  {
   "cell_type": "code",
   "execution_count": null,
   "metadata": {},
   "outputs": [],
   "source": []
  }
 ],
 "metadata": {
  "kernelspec": {
   "display_name": "Python 3 (ipykernel)",
   "language": "python",
   "name": "python3"
  },
  "language_info": {
   "codemirror_mode": {
    "name": "ipython",
    "version": 3
   },
   "file_extension": ".py",
   "mimetype": "text/x-python",
   "name": "python",
   "nbconvert_exporter": "python",
   "pygments_lexer": "ipython3",
   "version": "3.7.8"
  },
  "toc": {
   "base_numbering": 1,
   "nav_menu": {},
   "number_sections": true,
   "sideBar": true,
   "skip_h1_title": false,
   "title_cell": "Table of Contents",
   "title_sidebar": "Contents",
   "toc_cell": false,
   "toc_position": {},
   "toc_section_display": true,
   "toc_window_display": false
  },
  "varInspector": {
   "cols": {
    "lenName": 16,
    "lenType": 16,
    "lenVar": 40
   },
   "kernels_config": {
    "python": {
     "delete_cmd_postfix": "",
     "delete_cmd_prefix": "del ",
     "library": "var_list.py",
     "varRefreshCmd": "print(var_dic_list())"
    },
    "r": {
     "delete_cmd_postfix": ") ",
     "delete_cmd_prefix": "rm(",
     "library": "var_list.r",
     "varRefreshCmd": "cat(var_dic_list()) "
    }
   },
   "types_to_exclude": [
    "module",
    "function",
    "builtin_function_or_method",
    "instance",
    "_Feature"
   ],
   "window_display": false
  }
 },
 "nbformat": 4,
 "nbformat_minor": 4
}
