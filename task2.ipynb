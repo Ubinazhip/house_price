{
 "cells": [
  {
   "cell_type": "code",
   "execution_count": 1,
   "metadata": {
    "ExecuteTime": {
     "end_time": "2022-10-06T13:55:47.626911Z",
     "start_time": "2022-10-06T13:55:46.009969Z"
    }
   },
   "outputs": [],
   "source": [
    "import pandas as pd\n",
    "import torch\n",
    "import seaborn as sns\n",
    "from data_loader import HouseDataset\n",
    "from torch.utils.data import DataLoader\n",
    "from model import get_model\n",
    "import torch\n",
    "import pickle\n",
    "import numpy as np\n",
    "from tqdm import tqdm\n",
    "from sklearn.metrics import mean_squared_error as mse"
   ]
  },
  {
   "cell_type": "markdown",
   "metadata": {},
   "source": [
    "У меня есть данные: средняя цена за квадратный метр по районом в (-1990], (1990-2000], (2000-2010], (2010-] годах.\n",
    "Самая выгодная квартира будет, та квартира, где разница между предсказанной ценой за квадратный метр(pred_price/sq_m) и средней ценой в соответсвующем районе и в соответсвующем годом постройки наибольшая.  "
   ]
  },
  {
   "cell_type": "code",
   "execution_count": 2,
   "metadata": {},
   "outputs": [
    {
     "data": {
      "text/html": [
       "<div>\n",
       "<style scoped>\n",
       "    .dataframe tbody tr th:only-of-type {\n",
       "        vertical-align: middle;\n",
       "    }\n",
       "\n",
       "    .dataframe tbody tr th {\n",
       "        vertical-align: top;\n",
       "    }\n",
       "\n",
       "    .dataframe thead th {\n",
       "        text-align: right;\n",
       "    }\n",
       "</style>\n",
       "<table border=\"1\" class=\"dataframe\">\n",
       "  <thead>\n",
       "    <tr style=\"text-align: right;\">\n",
       "      <th></th>\n",
       "      <th>area</th>\n",
       "      <th>year_div</th>\n",
       "      <th>price_per_sqm</th>\n",
       "    </tr>\n",
       "  </thead>\n",
       "  <tbody>\n",
       "    <tr>\n",
       "      <th>0</th>\n",
       "      <td>Алатауский</td>\n",
       "      <td>1990_2000</td>\n",
       "      <td>537248.511347</td>\n",
       "    </tr>\n",
       "    <tr>\n",
       "      <th>1</th>\n",
       "      <td>Алатауский</td>\n",
       "      <td>2000_2010</td>\n",
       "      <td>575455.819848</td>\n",
       "    </tr>\n",
       "    <tr>\n",
       "      <th>2</th>\n",
       "      <td>Алатауский</td>\n",
       "      <td>2010_</td>\n",
       "      <td>551040.822096</td>\n",
       "    </tr>\n",
       "    <tr>\n",
       "      <th>3</th>\n",
       "      <td>Алатауский</td>\n",
       "      <td>_1990</td>\n",
       "      <td>641945.976353</td>\n",
       "    </tr>\n",
       "    <tr>\n",
       "      <th>4</th>\n",
       "      <td>Алмалинский</td>\n",
       "      <td>1990_2000</td>\n",
       "      <td>650770.505993</td>\n",
       "    </tr>\n",
       "  </tbody>\n",
       "</table>\n",
       "</div>"
      ],
      "text/plain": [
       "          area   year_div  price_per_sqm\n",
       "0   Алатауский  1990_2000  537248.511347\n",
       "1   Алатауский  2000_2010  575455.819848\n",
       "2   Алатауский      2010_  551040.822096\n",
       "3   Алатауский      _1990  641945.976353\n",
       "4  Алмалинский  1990_2000  650770.505993"
      ]
     },
     "execution_count": 2,
     "metadata": {},
     "output_type": "execute_result"
    }
   ],
   "source": [
    "df_mean_price = pd.read_csv('./data/mean_price.csv')\n",
    "df_mean_price.head()"
   ]
  },
  {
   "cell_type": "code",
   "execution_count": 3,
   "metadata": {},
   "outputs": [
    {
     "name": "stdout",
     "output_type": "stream",
     "text": [
      "The model net3 is ready, number of parameters = 241377\n"
     ]
    },
    {
     "data": {
      "text/plain": [
       "net3(\n",
       "  (net): Sequential(\n",
       "    (0): Linear(in_features=13, out_features=128, bias=True)\n",
       "    (1): ReLU()\n",
       "    (2): Linear(in_features=128, out_features=256, bias=True)\n",
       "    (3): ReLU()\n",
       "    (4): Linear(in_features=256, out_features=512, bias=True)\n",
       "    (5): ReLU()\n",
       "    (6): Linear(in_features=512, out_features=128, bias=True)\n",
       "    (7): ReLU()\n",
       "    (8): Linear(in_features=128, out_features=64, bias=True)\n",
       "    (9): ReLU()\n",
       "    (10): Linear(in_features=64, out_features=16, bias=True)\n",
       "    (11): ReLU()\n",
       "    (12): Linear(in_features=16, out_features=1, bias=True)\n",
       "  )\n",
       ")"
      ]
     },
     "execution_count": 3,
     "metadata": {},
     "output_type": "execute_result"
    }
   ],
   "source": [
    "data = HouseDataset(mode='all_data')\n",
    "target_scaler = pickle.load(open(f'./utils/target_scaler0.pkl', 'rb'))\n",
    "one_hot_enc = pickle.load(open(f'./utils/one_hot_enc0.pkl', 'rb'))\n",
    "feature_scaler = pickle.load(open(f'./utils/feature_scaler0.pkl', 'rb'))\n",
    "\n",
    "data_loader = DataLoader(data, batch_size=1, shuffle=False)\n",
    "criterion = torch.nn.L1Loss()\n",
    "model = get_model(model_name='net3')\n",
    "model = torch.load('./best_models/net3_fold4_train18545373.3_val18185701.1_test17261524.6.pth')\n",
    "mode = model.cuda()\n",
    "model.eval()"
   ]
  },
  {
   "cell_type": "code",
   "execution_count": 4,
   "metadata": {},
   "outputs": [],
   "source": [
    "from math import sqrt\n",
    "from sklearn.metrics import mean_squared_error as mse\n",
    "def inference(model, loader, criterion, target_scaler):\n",
    "    model.eval()\n",
    "    tqdm_loader = tqdm(loader)\n",
    "    running_loss = 0.0\n",
    "    running_rmse = 0.0\n",
    "    pred_labels = []\n",
    "    for batch_idx, (X, y) in enumerate(tqdm_loader):\n",
    "        X, y = X.cuda(), y.cuda()\n",
    "        with torch.no_grad():\n",
    "            pred = model(X)\n",
    "            loss = criterion(pred, y[:, None].float())\n",
    "            y_inverse = target_scaler.inverse_transform(y.cpu()[:, None])\n",
    "            y_pred_inverse = target_scaler.inverse_transform(pred.detach().cpu().numpy())\n",
    "            running_loss += loss.item() * X.size(0)\n",
    "            running_rmse += mse(y_inverse, y_pred_inverse) * X.size(0)\n",
    "            pred_labels.append(y_pred_inverse[0][0])\n",
    "            tqdm_loader.set_description(f'Test...')\n",
    "\n",
    "    epoch_loss = running_loss / len(loader.dataset)\n",
    "    epoch_rmse = np.sqrt(running_rmse / len(loader.dataset))\n",
    "    print(f'test: Loss: {epoch_loss:.2f}, rmse = {epoch_rmse:.2f}')\n",
    "\n",
    "\n",
    "    return pred_labels"
   ]
  },
  {
   "cell_type": "code",
   "execution_count": 5,
   "metadata": {},
   "outputs": [
    {
     "name": "stderr",
     "output_type": "stream",
     "text": [
      "Test...: 100%|████████████████████████████████████████████████████████████████████████████████████████████████████████████████████████████████████████████████████████████████████████████████████████| 11891/11891 [00:45<00:00, 260.57it/s]"
     ]
    },
    {
     "name": "stdout",
     "output_type": "stream",
     "text": [
      "test: Loss: 0.21, rmse = 19092358.09\n"
     ]
    },
    {
     "name": "stderr",
     "output_type": "stream",
     "text": [
      "\n"
     ]
    }
   ],
   "source": [
    "pred_labels = inference(model, data_loader, criterion, target_scaler)"
   ]
  },
  {
   "cell_type": "code",
   "execution_count": 217,
   "metadata": {},
   "outputs": [],
   "source": []
  },
  {
   "cell_type": "code",
   "execution_count": 6,
   "metadata": {},
   "outputs": [],
   "source": [
    "df = pd.read_csv('./data/all_data.csv')\n",
    "features = ['rooms', 'sq_m', 'floor', 'floors_all', 'year']\n",
    "target = ['price']\n",
    "one_hot_feat = ['area1', 'area2', 'area3', 'area4', 'area5', 'area6', 'area7', 'area8']\n",
    "df['area'] = one_hot_enc.inverse_transform(df[one_hot_feat])\n",
    "df.drop(columns=one_hot_feat, inplace=True)\n",
    "\n",
    "df[features] = feature_scaler.inverse_transform(df[features])\n",
    "df[features] = df[features].astype(int)\n",
    "df['price'] = target_scaler.inverse_transform(df['price'].to_numpy()[:,None])\n",
    "\n",
    "df['pred_price_per_sqm'] = pred_labels / df['sq_m']\n",
    "\n",
    "\n",
    "year_div = []\n",
    "for i in range(0, df.shape[0]):\n",
    "    if df.iloc[i]['year'] <= 1990:\n",
    "        year_div.append('_1990')\n",
    "    elif 1990 < df.iloc[i]['year'] <= 2000:\n",
    "        year_div.append('1990_2000')\n",
    "    elif 2000 < df.iloc[i]['year'] <= 2010:\n",
    "        year_div.append('2000_2010')\n",
    "    else:\n",
    "        year_div.append('2010_')\n",
    "df['year_div'] = year_div"
   ]
  },
  {
   "cell_type": "code",
   "execution_count": 7,
   "metadata": {},
   "outputs": [],
   "source": [
    "max_diff = {'Алмалинский': 0, 'Район9': 0, 'Ауэзовский': 0, 'Турксибский': 0, 'Бостандыкский': 0, 'Медеуский':0,\n",
    "               'Алатауский':0, 'Наурызбайский':0, 'Жетысуский': 0\n",
    "               }\n",
    "best_options = {'Алмалинский': 0, 'Район9': 0, 'Ауэзовский': 0, 'Турксибский': 0, 'Бостандыкский': 0, 'Медеуский':0,\n",
    "               'Алатауский':0, 'Наурызбайский':0, 'Жетысуский': 0\n",
    "               }\n",
    "\n",
    "for i in range(0, df.shape[0]):\n",
    "    row = df.iloc[i]\n",
    "    if row.sq_m >= 40:\n",
    "        mean_price = df_mean_price.loc[(df_mean_price.area == row['area']) & (df_mean_price.year_div == row['year_div'])]['price_per_sqm'].item()\n",
    "        if row['pred_price_per_sqm'] - mean_price > max_diff[row.area]:\n",
    "            max_diff[row.area] = row['pred_price_per_sqm'] - mean_price\n",
    "            best_options[row.area] = i"
   ]
  },
  {
   "cell_type": "code",
   "execution_count": 8,
   "metadata": {},
   "outputs": [
    {
     "data": {
      "text/plain": [
       "{'Алмалинский': 338596.8159932636,\n",
       " 'Район9': 409872.61973726365,\n",
       " 'Ауэзовский': 225802.9497062734,\n",
       " 'Турксибский': 97465.18551146553,\n",
       " 'Бостандыкский': 1447348.318690986,\n",
       " 'Медеуский': 563076.696376565,\n",
       " 'Алатауский': 640726.0744560347,\n",
       " 'Наурызбайский': 322266.6251079787,\n",
       " 'Жетысуский': 224269.22275373782}"
      ]
     },
     "execution_count": 8,
     "metadata": {},
     "output_type": "execute_result"
    }
   ],
   "source": [
    "max_diff#difference between mean price per sq_m in area and based on year build - predicted price/sq_m "
   ]
  },
  {
   "cell_type": "code",
   "execution_count": 9,
   "metadata": {},
   "outputs": [
    {
     "data": {
      "text/html": [
       "<div>\n",
       "<style scoped>\n",
       "    .dataframe tbody tr th:only-of-type {\n",
       "        vertical-align: middle;\n",
       "    }\n",
       "\n",
       "    .dataframe tbody tr th {\n",
       "        vertical-align: top;\n",
       "    }\n",
       "\n",
       "    .dataframe thead th {\n",
       "        text-align: right;\n",
       "    }\n",
       "</style>\n",
       "<table border=\"1\" class=\"dataframe\">\n",
       "  <thead>\n",
       "    <tr style=\"text-align: right;\">\n",
       "      <th></th>\n",
       "      <th>rooms</th>\n",
       "      <th>sq_m</th>\n",
       "      <th>floor</th>\n",
       "      <th>floors_all</th>\n",
       "      <th>year</th>\n",
       "      <th>price</th>\n",
       "      <th>area</th>\n",
       "      <th>pred_price_per_sqm</th>\n",
       "      <th>year_div</th>\n",
       "    </tr>\n",
       "  </thead>\n",
       "  <tbody>\n",
       "    <tr>\n",
       "      <th>4951</th>\n",
       "      <td>1</td>\n",
       "      <td>44</td>\n",
       "      <td>4</td>\n",
       "      <td>12</td>\n",
       "      <td>2020</td>\n",
       "      <td>3.345242e+07</td>\n",
       "      <td>Алмалинский</td>\n",
       "      <td>1.039975e+06</td>\n",
       "      <td>2010_</td>\n",
       "    </tr>\n",
       "    <tr>\n",
       "      <th>8643</th>\n",
       "      <td>1</td>\n",
       "      <td>44</td>\n",
       "      <td>2</td>\n",
       "      <td>19</td>\n",
       "      <td>2013</td>\n",
       "      <td>3.454594e+07</td>\n",
       "      <td>Район9</td>\n",
       "      <td>1.025924e+06</td>\n",
       "      <td>2010_</td>\n",
       "    </tr>\n",
       "    <tr>\n",
       "      <th>5990</th>\n",
       "      <td>1</td>\n",
       "      <td>66</td>\n",
       "      <td>17</td>\n",
       "      <td>18</td>\n",
       "      <td>2011</td>\n",
       "      <td>7.785362e+07</td>\n",
       "      <td>Ауэзовский</td>\n",
       "      <td>8.844661e+05</td>\n",
       "      <td>2010_</td>\n",
       "    </tr>\n",
       "    <tr>\n",
       "      <th>11592</th>\n",
       "      <td>3</td>\n",
       "      <td>90</td>\n",
       "      <td>8</td>\n",
       "      <td>9</td>\n",
       "      <td>1989</td>\n",
       "      <td>4.537286e+07</td>\n",
       "      <td>Турксибский</td>\n",
       "      <td>6.598252e+05</td>\n",
       "      <td>_1990</td>\n",
       "    </tr>\n",
       "    <tr>\n",
       "      <th>10334</th>\n",
       "      <td>4</td>\n",
       "      <td>213</td>\n",
       "      <td>30</td>\n",
       "      <td>39</td>\n",
       "      <td>1989</td>\n",
       "      <td>1.526171e+09</td>\n",
       "      <td>Бостандыкский</td>\n",
       "      <td>2.150148e+06</td>\n",
       "      <td>_1990</td>\n",
       "    </tr>\n",
       "    <tr>\n",
       "      <th>4246</th>\n",
       "      <td>1</td>\n",
       "      <td>53</td>\n",
       "      <td>13</td>\n",
       "      <td>27</td>\n",
       "      <td>2021</td>\n",
       "      <td>7.352285e+07</td>\n",
       "      <td>Медеуский</td>\n",
       "      <td>1.307092e+06</td>\n",
       "      <td>2010_</td>\n",
       "    </tr>\n",
       "    <tr>\n",
       "      <th>3063</th>\n",
       "      <td>1</td>\n",
       "      <td>58</td>\n",
       "      <td>10</td>\n",
       "      <td>111</td>\n",
       "      <td>2018</td>\n",
       "      <td>3.562863e+07</td>\n",
       "      <td>Алатауский</td>\n",
       "      <td>1.191767e+06</td>\n",
       "      <td>2010_</td>\n",
       "    </tr>\n",
       "    <tr>\n",
       "      <th>2427</th>\n",
       "      <td>3</td>\n",
       "      <td>85</td>\n",
       "      <td>1</td>\n",
       "      <td>3</td>\n",
       "      <td>2020</td>\n",
       "      <td>1.049209e+08</td>\n",
       "      <td>Наурызбайский</td>\n",
       "      <td>8.718482e+05</td>\n",
       "      <td>2010_</td>\n",
       "    </tr>\n",
       "    <tr>\n",
       "      <th>2311</th>\n",
       "      <td>1</td>\n",
       "      <td>46</td>\n",
       "      <td>3</td>\n",
       "      <td>12</td>\n",
       "      <td>2021</td>\n",
       "      <td>3.779402e+07</td>\n",
       "      <td>Жетысуский</td>\n",
       "      <td>7.766521e+05</td>\n",
       "      <td>2010_</td>\n",
       "    </tr>\n",
       "  </tbody>\n",
       "</table>\n",
       "</div>"
      ],
      "text/plain": [
       "       rooms  sq_m  floor  floors_all  year         price           area  \\\n",
       "4951       1    44      4          12  2020  3.345242e+07    Алмалинский   \n",
       "8643       1    44      2          19  2013  3.454594e+07         Район9   \n",
       "5990       1    66     17          18  2011  7.785362e+07     Ауэзовский   \n",
       "11592      3    90      8           9  1989  4.537286e+07    Турксибский   \n",
       "10334      4   213     30          39  1989  1.526171e+09  Бостандыкский   \n",
       "4246       1    53     13          27  2021  7.352285e+07      Медеуский   \n",
       "3063       1    58     10         111  2018  3.562863e+07     Алатауский   \n",
       "2427       3    85      1           3  2020  1.049209e+08  Наурызбайский   \n",
       "2311       1    46      3          12  2021  3.779402e+07     Жетысуский   \n",
       "\n",
       "       pred_price_per_sqm year_div  \n",
       "4951         1.039975e+06    2010_  \n",
       "8643         1.025924e+06    2010_  \n",
       "5990         8.844661e+05    2010_  \n",
       "11592        6.598252e+05    _1990  \n",
       "10334        2.150148e+06    _1990  \n",
       "4246         1.307092e+06    2010_  \n",
       "3063         1.191767e+06    2010_  \n",
       "2427         8.718482e+05    2010_  \n",
       "2311         7.766521e+05    2010_  "
      ]
     },
     "execution_count": 9,
     "metadata": {},
     "output_type": "execute_result"
    }
   ],
   "source": [
    "df.iloc[list(best_options.values())]"
   ]
  },
  {
   "cell_type": "code",
   "execution_count": 10,
   "metadata": {},
   "outputs": [
    {
     "data": {
      "text/plain": [
       "'Бостандыкский'"
      ]
     },
     "execution_count": 10,
     "metadata": {},
     "output_type": "execute_result"
    }
   ],
   "source": [
    "max(max_diff, key=max_diff.get)"
   ]
  },
  {
   "cell_type": "code",
   "execution_count": 11,
   "metadata": {},
   "outputs": [
    {
     "data": {
      "text/html": [
       "<div>\n",
       "<style scoped>\n",
       "    .dataframe tbody tr th:only-of-type {\n",
       "        vertical-align: middle;\n",
       "    }\n",
       "\n",
       "    .dataframe tbody tr th {\n",
       "        vertical-align: top;\n",
       "    }\n",
       "\n",
       "    .dataframe thead th {\n",
       "        text-align: right;\n",
       "    }\n",
       "</style>\n",
       "<table border=\"1\" class=\"dataframe\">\n",
       "  <thead>\n",
       "    <tr style=\"text-align: right;\">\n",
       "      <th></th>\n",
       "      <th>rooms</th>\n",
       "      <th>sq_m</th>\n",
       "      <th>floor</th>\n",
       "      <th>floors_all</th>\n",
       "      <th>year</th>\n",
       "      <th>price</th>\n",
       "      <th>area</th>\n",
       "      <th>pred_price_per_sqm</th>\n",
       "      <th>year_div</th>\n",
       "    </tr>\n",
       "  </thead>\n",
       "  <tbody>\n",
       "    <tr>\n",
       "      <th>10334</th>\n",
       "      <td>4</td>\n",
       "      <td>213</td>\n",
       "      <td>30</td>\n",
       "      <td>39</td>\n",
       "      <td>1989</td>\n",
       "      <td>1.526171e+09</td>\n",
       "      <td>Бостандыкский</td>\n",
       "      <td>2.150148e+06</td>\n",
       "      <td>_1990</td>\n",
       "    </tr>\n",
       "  </tbody>\n",
       "</table>\n",
       "</div>"
      ],
      "text/plain": [
       "       rooms  sq_m  floor  floors_all  year         price           area  \\\n",
       "10334      4   213     30          39  1989  1.526171e+09  Бостандыкский   \n",
       "\n",
       "       pred_price_per_sqm year_div  \n",
       "10334        2.150148e+06    _1990  "
      ]
     },
     "execution_count": 11,
     "metadata": {},
     "output_type": "execute_result"
    }
   ],
   "source": [
    "df.iloc[list(best_options.values())].loc[df.area == max(max_diff, key=max_diff.get)]"
   ]
  },
  {
   "cell_type": "code",
   "execution_count": null,
   "metadata": {},
   "outputs": [],
   "source": []
  }
 ],
 "metadata": {
  "kernelspec": {
   "display_name": "Python 3 (ipykernel)",
   "language": "python",
   "name": "python3"
  },
  "language_info": {
   "codemirror_mode": {
    "name": "ipython",
    "version": 3
   },
   "file_extension": ".py",
   "mimetype": "text/x-python",
   "name": "python",
   "nbconvert_exporter": "python",
   "pygments_lexer": "ipython3",
   "version": "3.7.8"
  },
  "toc": {
   "base_numbering": 1,
   "nav_menu": {},
   "number_sections": true,
   "sideBar": true,
   "skip_h1_title": false,
   "title_cell": "Table of Contents",
   "title_sidebar": "Contents",
   "toc_cell": false,
   "toc_position": {},
   "toc_section_display": true,
   "toc_window_display": false
  },
  "varInspector": {
   "cols": {
    "lenName": 16,
    "lenType": 16,
    "lenVar": 40
   },
   "kernels_config": {
    "python": {
     "delete_cmd_postfix": "",
     "delete_cmd_prefix": "del ",
     "library": "var_list.py",
     "varRefreshCmd": "print(var_dic_list())"
    },
    "r": {
     "delete_cmd_postfix": ") ",
     "delete_cmd_prefix": "rm(",
     "library": "var_list.r",
     "varRefreshCmd": "cat(var_dic_list()) "
    }
   },
   "types_to_exclude": [
    "module",
    "function",
    "builtin_function_or_method",
    "instance",
    "_Feature"
   ],
   "window_display": false
  }
 },
 "nbformat": 4,
 "nbformat_minor": 4
}
